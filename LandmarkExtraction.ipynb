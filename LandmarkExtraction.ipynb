{
  "nbformat": 4,
  "nbformat_minor": 0,
  "metadata": {
    "colab": {
      "provenance": [],
      "authorship_tag": "ABX9TyNPlJnrKtd5eBwJfjN0fNVJ",
      "include_colab_link": true
    },
    "kernelspec": {
      "name": "python3",
      "display_name": "Python 3"
    },
    "language_info": {
      "name": "python"
    }
  },
  "cells": [
    {
      "cell_type": "markdown",
      "metadata": {
        "id": "view-in-github",
        "colab_type": "text"
      },
      "source": [
        "<a href=\"https://colab.research.google.com/github/GerardoFesta/3DFER_SE4AI/blob/main/LandmarkExtraction.ipynb\" target=\"_parent\"><img src=\"https://colab.research.google.com/assets/colab-badge.svg\" alt=\"Open In Colab\"/></a>"
      ]
    },
    {
      "cell_type": "code",
      "execution_count": 1,
      "metadata": {
        "colab": {
          "base_uri": "https://localhost:8080/"
        },
        "id": "erhIpaFQRqVi",
        "outputId": "0b5291c5-4748-4d54-be33-aab31e7a4bab"
      },
      "outputs": [
        {
          "output_type": "stream",
          "name": "stdout",
          "text": [
            "Looking in indexes: https://pypi.org/simple, https://us-python.pkg.dev/colab-wheels/public/simple/\n",
            "Collecting mediapipe\n",
            "  Downloading mediapipe-0.10.0-cp310-cp310-manylinux_2_17_x86_64.manylinux2014_x86_64.whl (33.9 MB)\n",
            "\u001b[2K     \u001b[90m━━━━━━━━━━━━━━━━━━━━━━━━━━━━━━━━━━━━━━━━\u001b[0m \u001b[32m33.9/33.9 MB\u001b[0m \u001b[31m41.3 MB/s\u001b[0m eta \u001b[36m0:00:00\u001b[0m\n",
            "\u001b[?25hRequirement already satisfied: absl-py in /usr/local/lib/python3.10/dist-packages (from mediapipe) (1.4.0)\n",
            "Requirement already satisfied: attrs>=19.1.0 in /usr/local/lib/python3.10/dist-packages (from mediapipe) (23.1.0)\n",
            "Requirement already satisfied: flatbuffers>=2.0 in /usr/local/lib/python3.10/dist-packages (from mediapipe) (23.3.3)\n",
            "Requirement already satisfied: matplotlib in /usr/local/lib/python3.10/dist-packages (from mediapipe) (3.7.1)\n",
            "Requirement already satisfied: numpy in /usr/local/lib/python3.10/dist-packages (from mediapipe) (1.22.4)\n",
            "Requirement already satisfied: opencv-contrib-python in /usr/local/lib/python3.10/dist-packages (from mediapipe) (4.7.0.72)\n",
            "Requirement already satisfied: protobuf<4,>=3.11 in /usr/local/lib/python3.10/dist-packages (from mediapipe) (3.20.3)\n",
            "Collecting sounddevice>=0.4.4 (from mediapipe)\n",
            "  Downloading sounddevice-0.4.6-py3-none-any.whl (31 kB)\n",
            "Requirement already satisfied: CFFI>=1.0 in /usr/local/lib/python3.10/dist-packages (from sounddevice>=0.4.4->mediapipe) (1.15.1)\n",
            "Requirement already satisfied: contourpy>=1.0.1 in /usr/local/lib/python3.10/dist-packages (from matplotlib->mediapipe) (1.0.7)\n",
            "Requirement already satisfied: cycler>=0.10 in /usr/local/lib/python3.10/dist-packages (from matplotlib->mediapipe) (0.11.0)\n",
            "Requirement already satisfied: fonttools>=4.22.0 in /usr/local/lib/python3.10/dist-packages (from matplotlib->mediapipe) (4.39.3)\n",
            "Requirement already satisfied: kiwisolver>=1.0.1 in /usr/local/lib/python3.10/dist-packages (from matplotlib->mediapipe) (1.4.4)\n",
            "Requirement already satisfied: packaging>=20.0 in /usr/local/lib/python3.10/dist-packages (from matplotlib->mediapipe) (23.1)\n",
            "Requirement already satisfied: pillow>=6.2.0 in /usr/local/lib/python3.10/dist-packages (from matplotlib->mediapipe) (8.4.0)\n",
            "Requirement already satisfied: pyparsing>=2.3.1 in /usr/local/lib/python3.10/dist-packages (from matplotlib->mediapipe) (3.0.9)\n",
            "Requirement already satisfied: python-dateutil>=2.7 in /usr/local/lib/python3.10/dist-packages (from matplotlib->mediapipe) (2.8.2)\n",
            "Requirement already satisfied: pycparser in /usr/local/lib/python3.10/dist-packages (from CFFI>=1.0->sounddevice>=0.4.4->mediapipe) (2.21)\n",
            "Requirement already satisfied: six>=1.5 in /usr/local/lib/python3.10/dist-packages (from python-dateutil>=2.7->matplotlib->mediapipe) (1.16.0)\n",
            "Installing collected packages: sounddevice, mediapipe\n",
            "Successfully installed mediapipe-0.10.0 sounddevice-0.4.6\n"
          ]
        }
      ],
      "source": [
        "!pip install mediapipe"
      ]
    },
    {
      "cell_type": "code",
      "source": [
        "!unzip \"fer2013.zip\""
      ],
      "metadata": {
        "id": "xiKX_yakRskq"
      },
      "execution_count": null,
      "outputs": []
    },
    {
      "cell_type": "code",
      "source": [
        "import plotly.express as px \n",
        "import cv2\n",
        "import mediapipe as mp\n",
        "\n",
        "import matplotlib.pyplot as plt\n",
        "from mpl_toolkits.mplot3d import Axes3D\n",
        "import numpy as np\n",
        "from numpy import linspace\n",
        "from mpl_toolkits import mplot3d\n",
        "import glob, os\n",
        "import json\n",
        "import pandas as pd"
      ],
      "metadata": {
        "id": "le7zNhQYSSnx"
      },
      "execution_count": 3,
      "outputs": []
    },
    {
      "cell_type": "code",
      "source": [
        "\n",
        "mp_drawing = mp.solutions.drawing_utils\n",
        "mp_drawing_styles = mp.solutions.drawing_styles\n",
        "mp_face_mesh = mp.solutions.face_mesh\n",
        "\n",
        "\n",
        "with mp_face_mesh.FaceMesh(\n",
        "    static_image_mode=True,\n",
        "    max_num_faces=1,\n",
        "    refine_landmarks=True,\n",
        "    min_detection_confidence=0.5) as face_mesh:\n",
        "\n",
        "    df = pd.DataFrame(columns=['nome', 'landmarks', 'label'])\n",
        "\n",
        "    for root, dirs, files in os.walk(\"train\"):\n",
        "      for dir in dirs:\n",
        " \n",
        "        label=dir\n",
        "        for _file in glob.glob(\"train/\"+dir+\"/*.jpg\"):\n",
        "          \n",
        "            image = cv2.imread(_file)\n",
        "        # Convert the BGR image to RGB before processing.\n",
        "            results = face_mesh.process(cv2.cvtColor(image, cv2.COLOR_BGR2RGB))\n",
        "            \n",
        "\n",
        "            annotated_image = image.copy()\n",
        "            if(results.multi_face_landmarks!=None):\n",
        "              for face_landmarks in results.multi_face_landmarks:\n",
        "                #print('face_landmarks:', face_landmarks)\n",
        "                mp_drawing.draw_landmarks(\n",
        "                    image=annotated_image,\n",
        "                    landmark_list=face_landmarks,\n",
        "                    connections=mp_face_mesh.FACEMESH_TESSELATION,\n",
        "                    landmark_drawing_spec=None,\n",
        "                    connection_drawing_spec=mp_drawing_styles\n",
        "                    .get_default_face_mesh_tesselation_style())\n",
        "                mp_drawing.draw_landmarks(\n",
        "                    image=annotated_image,\n",
        "                    landmark_list=face_landmarks,\n",
        "                    connections=mp_face_mesh.FACEMESH_CONTOURS,\n",
        "                    landmark_drawing_spec=None,\n",
        "                    connection_drawing_spec=mp_drawing_styles\n",
        "                    .get_default_face_mesh_contours_style())\n",
        "                mp_drawing.draw_landmarks(\n",
        "                    image=annotated_image,\n",
        "                    landmark_list=face_landmarks,\n",
        "                    connections=mp_face_mesh.FACEMESH_IRISES,\n",
        "                    landmark_drawing_spec=None,\n",
        "                    connection_drawing_spec=mp_drawing_styles\n",
        "                    .get_default_face_mesh_iris_connections_style())\n",
        "              points_array = np.array(face_landmarks)\n",
        "              \n",
        "              x_array=[]\n",
        "              y_array=[]\n",
        "              z_array=[]\n",
        "\n",
        "              landmark_matrix = []\n",
        "              for data_point in face_landmarks.landmark:\n",
        "                landmark_matrix.append([data_point.x, data_point.y, data_point.z])\n",
        "\n",
        "              df = pd.concat([df,pd.DataFrame([[_file, landmark_matrix, label]], columns = df.columns)]) \n",
        "              #df.append([_file, landmark_matrix, label])\n",
        "                    \n",
        "\n",
        "    \n",
        "    df.to_csv(\"training_set.csv\", index = False)  \n",
        "    \n",
        "          #print(keypoints)\n",
        "    from google.colab import files\n",
        "\n",
        "    files.download(\"training_set.csv\")"
      ],
      "metadata": {
        "id": "HHbWXPY8Rvuk"
      },
      "execution_count": null,
      "outputs": []
    }
  ]
}