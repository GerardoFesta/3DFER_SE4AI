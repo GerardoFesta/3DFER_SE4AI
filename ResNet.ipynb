{
  "nbformat": 4,
  "nbformat_minor": 0,
  "metadata": {
    "colab": {
      "provenance": [],
      "gpuType": "T4",
      "include_colab_link": true
    },
    "kernelspec": {
      "name": "python3",
      "display_name": "Python 3"
    },
    "language_info": {
      "name": "python"
    },
    "accelerator": "GPU"
  },
  "cells": [
    {
      "cell_type": "markdown",
      "metadata": {
        "id": "view-in-github",
        "colab_type": "text"
      },
      "source": [
        "<a href=\"https://colab.research.google.com/github/GerardoFesta/3DFER_SE4AI/blob/1-poor-performances-on-test-set/ResNet.ipynb\" target=\"_parent\"><img src=\"https://colab.research.google.com/assets/colab-badge.svg\" alt=\"Open In Colab\"/></a>"
      ]
    },
    {
      "cell_type": "code",
      "execution_count": 1,
      "metadata": {
        "id": "04Ind-xwGX3t"
      },
      "outputs": [],
      "source": [
        "import torch\n",
        "import torch.nn as nn"
      ]
    },
    {
      "cell_type": "code",
      "source": [
        "%matplotlib inline\n",
        "import torch\n",
        "from torch.utils.data import Dataset, DataLoader\n",
        "import torch.nn as nn\n",
        "import torch.nn.functional as F\n",
        "import torchvision\n",
        "import torchvision.transforms as transforms\n",
        "import matplotlib.pyplot as plt\n",
        "import numpy as np\n",
        "from sklearn.model_selection import train_test_split\n",
        "from datetime import datetime\n",
        "import pandas as pd\n",
        "import cv2\n",
        "from google.colab.patches import cv2_imshow\n",
        "\n",
        "TRAIN_PATH = \"train\"\n",
        "TEST_PATH =\"test\"\n"
      ],
      "metadata": {
        "id": "gsen0EXzN_aK"
      },
      "execution_count": 2,
      "outputs": []
    },
    {
      "cell_type": "code",
      "source": [
        "import os \n",
        "from google.colab import drive\n",
        "drive.mount(\"/content/drive\")"
      ],
      "metadata": {
        "colab": {
          "base_uri": "https://localhost:8080/",
          "height": 345
        },
        "id": "tBv43qjlRIAd",
        "outputId": "f2ce29c9-a79a-46d2-8bd8-24352e814f00"
      },
      "execution_count": null,
      "outputs": [
        {
          "output_type": "error",
          "ename": "MessageError",
          "evalue": "ignored",
          "traceback": [
            "\u001b[0;31m---------------------------------------------------------------------------\u001b[0m",
            "\u001b[0;31mMessageError\u001b[0m                              Traceback (most recent call last)",
            "\u001b[0;32m<ipython-input-3-a489b69a9478>\u001b[0m in \u001b[0;36m<cell line: 3>\u001b[0;34m()\u001b[0m\n\u001b[1;32m      1\u001b[0m \u001b[0;32mimport\u001b[0m \u001b[0mos\u001b[0m\u001b[0;34m\u001b[0m\u001b[0;34m\u001b[0m\u001b[0m\n\u001b[1;32m      2\u001b[0m \u001b[0;32mfrom\u001b[0m \u001b[0mgoogle\u001b[0m\u001b[0;34m.\u001b[0m\u001b[0mcolab\u001b[0m \u001b[0;32mimport\u001b[0m \u001b[0mdrive\u001b[0m\u001b[0;34m\u001b[0m\u001b[0;34m\u001b[0m\u001b[0m\n\u001b[0;32m----> 3\u001b[0;31m \u001b[0mdrive\u001b[0m\u001b[0;34m.\u001b[0m\u001b[0mmount\u001b[0m\u001b[0;34m(\u001b[0m\u001b[0;34m\"/content/drive\"\u001b[0m\u001b[0;34m)\u001b[0m\u001b[0;34m\u001b[0m\u001b[0;34m\u001b[0m\u001b[0m\n\u001b[0m",
            "\u001b[0;32m/usr/local/lib/python3.10/dist-packages/google/colab/drive.py\u001b[0m in \u001b[0;36mmount\u001b[0;34m(mountpoint, force_remount, timeout_ms, readonly)\u001b[0m\n\u001b[1;32m    101\u001b[0m \u001b[0;32mdef\u001b[0m \u001b[0mmount\u001b[0m\u001b[0;34m(\u001b[0m\u001b[0mmountpoint\u001b[0m\u001b[0;34m,\u001b[0m \u001b[0mforce_remount\u001b[0m\u001b[0;34m=\u001b[0m\u001b[0;32mFalse\u001b[0m\u001b[0;34m,\u001b[0m \u001b[0mtimeout_ms\u001b[0m\u001b[0;34m=\u001b[0m\u001b[0;36m120000\u001b[0m\u001b[0;34m,\u001b[0m \u001b[0mreadonly\u001b[0m\u001b[0;34m=\u001b[0m\u001b[0;32mFalse\u001b[0m\u001b[0;34m)\u001b[0m\u001b[0;34m:\u001b[0m\u001b[0;34m\u001b[0m\u001b[0;34m\u001b[0m\u001b[0m\n\u001b[1;32m    102\u001b[0m   \u001b[0;34m\"\"\"Mount your Google Drive at the specified mountpoint path.\"\"\"\u001b[0m\u001b[0;34m\u001b[0m\u001b[0;34m\u001b[0m\u001b[0m\n\u001b[0;32m--> 103\u001b[0;31m   return _mount(\n\u001b[0m\u001b[1;32m    104\u001b[0m       \u001b[0mmountpoint\u001b[0m\u001b[0;34m,\u001b[0m\u001b[0;34m\u001b[0m\u001b[0;34m\u001b[0m\u001b[0m\n\u001b[1;32m    105\u001b[0m       \u001b[0mforce_remount\u001b[0m\u001b[0;34m=\u001b[0m\u001b[0mforce_remount\u001b[0m\u001b[0;34m,\u001b[0m\u001b[0;34m\u001b[0m\u001b[0;34m\u001b[0m\u001b[0m\n",
            "\u001b[0;32m/usr/local/lib/python3.10/dist-packages/google/colab/drive.py\u001b[0m in \u001b[0;36m_mount\u001b[0;34m(mountpoint, force_remount, timeout_ms, ephemeral, readonly)\u001b[0m\n\u001b[1;32m    130\u001b[0m   )\n\u001b[1;32m    131\u001b[0m   \u001b[0;32mif\u001b[0m \u001b[0mephemeral\u001b[0m\u001b[0;34m:\u001b[0m\u001b[0;34m\u001b[0m\u001b[0;34m\u001b[0m\u001b[0m\n\u001b[0;32m--> 132\u001b[0;31m     _message.blocking_request(\n\u001b[0m\u001b[1;32m    133\u001b[0m         \u001b[0;34m'request_auth'\u001b[0m\u001b[0;34m,\u001b[0m \u001b[0mrequest\u001b[0m\u001b[0;34m=\u001b[0m\u001b[0;34m{\u001b[0m\u001b[0;34m'authType'\u001b[0m\u001b[0;34m:\u001b[0m \u001b[0;34m'dfs_ephemeral'\u001b[0m\u001b[0;34m}\u001b[0m\u001b[0;34m,\u001b[0m \u001b[0mtimeout_sec\u001b[0m\u001b[0;34m=\u001b[0m\u001b[0;32mNone\u001b[0m\u001b[0;34m\u001b[0m\u001b[0;34m\u001b[0m\u001b[0m\n\u001b[1;32m    134\u001b[0m     )\n",
            "\u001b[0;32m/usr/local/lib/python3.10/dist-packages/google/colab/_message.py\u001b[0m in \u001b[0;36mblocking_request\u001b[0;34m(request_type, request, timeout_sec, parent)\u001b[0m\n\u001b[1;32m    174\u001b[0m       \u001b[0mrequest_type\u001b[0m\u001b[0;34m,\u001b[0m \u001b[0mrequest\u001b[0m\u001b[0;34m,\u001b[0m \u001b[0mparent\u001b[0m\u001b[0;34m=\u001b[0m\u001b[0mparent\u001b[0m\u001b[0;34m,\u001b[0m \u001b[0mexpect_reply\u001b[0m\u001b[0;34m=\u001b[0m\u001b[0;32mTrue\u001b[0m\u001b[0;34m\u001b[0m\u001b[0;34m\u001b[0m\u001b[0m\n\u001b[1;32m    175\u001b[0m   )\n\u001b[0;32m--> 176\u001b[0;31m   \u001b[0;32mreturn\u001b[0m \u001b[0mread_reply_from_input\u001b[0m\u001b[0;34m(\u001b[0m\u001b[0mrequest_id\u001b[0m\u001b[0;34m,\u001b[0m \u001b[0mtimeout_sec\u001b[0m\u001b[0;34m)\u001b[0m\u001b[0;34m\u001b[0m\u001b[0;34m\u001b[0m\u001b[0m\n\u001b[0m",
            "\u001b[0;32m/usr/local/lib/python3.10/dist-packages/google/colab/_message.py\u001b[0m in \u001b[0;36mread_reply_from_input\u001b[0;34m(message_id, timeout_sec)\u001b[0m\n\u001b[1;32m    101\u001b[0m     ):\n\u001b[1;32m    102\u001b[0m       \u001b[0;32mif\u001b[0m \u001b[0;34m'error'\u001b[0m \u001b[0;32min\u001b[0m \u001b[0mreply\u001b[0m\u001b[0;34m:\u001b[0m\u001b[0;34m\u001b[0m\u001b[0;34m\u001b[0m\u001b[0m\n\u001b[0;32m--> 103\u001b[0;31m         \u001b[0;32mraise\u001b[0m \u001b[0mMessageError\u001b[0m\u001b[0;34m(\u001b[0m\u001b[0mreply\u001b[0m\u001b[0;34m[\u001b[0m\u001b[0;34m'error'\u001b[0m\u001b[0;34m]\u001b[0m\u001b[0;34m)\u001b[0m\u001b[0;34m\u001b[0m\u001b[0;34m\u001b[0m\u001b[0m\n\u001b[0m\u001b[1;32m    104\u001b[0m       \u001b[0;32mreturn\u001b[0m \u001b[0mreply\u001b[0m\u001b[0;34m.\u001b[0m\u001b[0mget\u001b[0m\u001b[0;34m(\u001b[0m\u001b[0;34m'data'\u001b[0m\u001b[0;34m,\u001b[0m \u001b[0;32mNone\u001b[0m\u001b[0;34m)\u001b[0m\u001b[0;34m\u001b[0m\u001b[0;34m\u001b[0m\u001b[0m\n\u001b[1;32m    105\u001b[0m \u001b[0;34m\u001b[0m\u001b[0m\n",
            "\u001b[0;31mMessageError\u001b[0m: Error: credential propagation was unsuccessful"
          ]
        }
      ]
    },
    {
      "cell_type": "code",
      "source": [
        "device = torch.device('cuda' if torch.cuda.is_available() else 'cpu')\n",
        "#Questo commento serve per provare il funzionamento dei commit con colab\n",
        "\n",
        "batch_size = 1024 "
      ],
      "metadata": {
        "id": "fE7pCxDmOYph"
      },
      "execution_count": 3,
      "outputs": []
    },
    {
      "cell_type": "code",
      "source": [
        "import zipfile\n",
        "\n",
        "\n",
        "zip_ref = zipfile.ZipFile('fer2013.zip', 'r') #Opens the zip file in read mode\n",
        "zip_ref.extractall() #Extracts the files into the /tmp folder\n",
        "zip_ref.close()"
      ],
      "metadata": {
        "id": "iT26qYfvO8sG"
      },
      "execution_count": 4,
      "outputs": []
    },
    {
      "cell_type": "code",
      "source": [
        "import os\n",
        "class_dir=os.listdir(TRAIN_PATH+'/')\n",
        "folder_names = class_dir\n",
        "label_dict = {folder_names[i]:i for i in range(len(folder_names))}\n",
        "num_classes=len(label_dict)\n",
        "train_image_filenames = []\n",
        "train_labels = []\n",
        "\n",
        "# iterate through each folder and collect filenames and labels\n",
        "for folder_name in folder_names:\n",
        "    folder_path = os.path.join(TRAIN_PATH, folder_name)\n",
        "    for filename in os.listdir(folder_path):\n",
        "        train_image_filenames.append(os.path.join(TRAIN_PATH+\"/\"+folder_name, filename))\n",
        "        train_labels.append(label_dict[folder_name])\n",
        "\n",
        "# create pandas dataframe\n",
        "train_df = pd.DataFrame({'filename': train_image_filenames, 'emotion': train_labels})\n",
        "\n",
        "print(len(train_df))\n",
        "\n",
        "\n",
        "test_image_filenames = []\n",
        "test_labels = []\n",
        "class_dir=os.listdir(TEST_PATH+'/')\n",
        "for folder_name in folder_names:\n",
        "    folder_path = os.path.join(TEST_PATH, folder_name)\n",
        "    for filename in os.listdir(folder_path):\n",
        "        test_image_filenames.append(os.path.join(TEST_PATH+\"/\"+folder_name, filename))\n",
        "        test_labels.append(label_dict[folder_name])\n",
        "\n",
        "test_df = pd.DataFrame({'filename': test_image_filenames, 'emotion': test_labels})"
      ],
      "metadata": {
        "colab": {
          "base_uri": "https://localhost:8080/"
        },
        "id": "Cp6VXk73PUy8",
        "outputId": "c432b12a-5317-40e8-ef90-55d8be70877b"
      },
      "execution_count": 14,
      "outputs": [
        {
          "output_type": "stream",
          "name": "stdout",
          "text": [
            "28709\n"
          ]
        }
      ]
    },
    {
      "cell_type": "code",
      "source": [
        "train_df['img_as_matrix'] = train_df['filename'].apply(lambda path: cv2.imread(path))\n",
        "test_df['img_as_matrix'] = test_df['filename'].apply(lambda path: cv2.imread(path))\n"
      ],
      "metadata": {
        "id": "AGSZTlxmPbut"
      },
      "execution_count": 15,
      "outputs": []
    },
    {
      "cell_type": "code",
      "source": [
        "class CustomDataset(Dataset):\n",
        "    def __init__(self, dataframe, transform=None):\n",
        "        self.data = dataframe\n",
        "        self.transform = transform\n",
        "\n",
        "    def __len__(self):\n",
        "        return len(self.data)\n",
        "\n",
        "    def __getitem__(self, index):\n",
        "        image = self.data.iloc[index]['img_as_matrix'] \n",
        "        label = self.data.iloc[index]['emotion'] \n",
        "\n",
        "        # Esegui le trasformazioni se definite\n",
        "        if self.transform is not None:\n",
        "            image = self.transform(image)\n",
        "\n",
        "        return image, label"
      ],
      "metadata": {
        "id": "geovWMyTPhBA"
      },
      "execution_count": 7,
      "outputs": []
    },
    {
      "cell_type": "code",
      "source": [
        "train_df.drop(columns=[\"filename\"], inplace=True)\n",
        "test_df.drop(columns=[\"filename\"], inplace=True)\n",
        "train_df.at[0,\"img_as_matrix\"]\n",
        "full_df = pd.concat([train_df, test_df])\n",
        "\n",
        "full_dataset = CustomDataset(full_df, transform=transforms.ToTensor())\n",
        "full_daset_loader = DataLoader(full_dataset, batch_size=batch_size, shuffle=False)\n",
        "\n",
        "\n",
        "\n",
        "#train_dataset = CustomDataset(train_df, transform=transforms.ToTensor())\n",
        "#test_dataset = CustomDataset(test_df, transform=transforms.ToTensor())\n",
        " \n",
        "\n",
        "#train_loader = DataLoader(train_dataset, batch_size=batch_size, shuffle=True)\n",
        "#test_loader = DataLoader(test_dataset, batch_size=batch_size, shuffle=False)\n",
        "\n",
        "X_train, X_test, y_train, y_test = train_test_split(full_df['img_as_matrix'], full_df['emotion'], test_size=0.33, random_state=42, stratify=full_df['emotion'])\n",
        "\n",
        "print(type(X_train))\n",
        "def mean_std_calc(loader):\n",
        "  cnt = 0\n",
        "  fst_moment = torch.empty(3)\n",
        "  snd_moment = torch.empty(3)\n",
        "\n",
        "  for images, _ in loader:\n",
        "      b, c, h, w = images.shape\n",
        "      nb_pixels = b * h * w\n",
        "      sum_ = torch.sum(images, dim=[0, 2, 3])\n",
        "      sum_of_square = torch.sum(images ** 2,\n",
        "                                dim=[0, 2, 3])\n",
        "      fst_moment = (cnt * fst_moment + sum_) / (\n",
        "                    cnt + nb_pixels)\n",
        "      snd_moment = (cnt * snd_moment + sum_of_square) / (\n",
        "                          cnt + nb_pixels)\n",
        "      cnt += nb_pixels\n",
        "\n",
        "  mean, std = fst_moment, torch.sqrt(snd_moment - fst_moment ** 2)\n",
        "  return mean, std\n",
        "\n",
        "#Normalizzazione train loader\n",
        "mean, std = mean_std_calc(full_daset_loader)\n",
        "\n",
        "transform_img_normal = transforms.Compose([\n",
        "    transforms.ToTensor(),\n",
        "    transforms.Normalize(mean = mean, std= std),\n",
        "])\n",
        "\n",
        "X_train.name=\"img_as_matrix\"\n",
        "X_test.name=\"img_as_matrix\"\n",
        "y_test.name=\"emotion\"\n",
        "y_train.name=\"emotion\"\n",
        "new_train_df=pd.concat([X_train, y_train], axis=1)\n",
        "new_test_df=pd.concat([X_test, y_test], axis=1)\n",
        "print(new_train_df)\n",
        "\n",
        "train_dataset = CustomDataset(new_train_df, transform=transform_img_normal)\n",
        "\n",
        "train_loader = DataLoader(train_dataset, batch_size=batch_size, shuffle=True)\n",
        "\n",
        "\n",
        "test_dataset = CustomDataset(new_test_df, transform=transform_img_normal)\n",
        "\n",
        "test_loader = DataLoader(test_dataset, batch_size=batch_size, shuffle=False)\n",
        "\n"
      ],
      "metadata": {
        "id": "QLPPzSbRPi-A",
        "outputId": "76bc8e74-0bfd-4355-8046-49c310ade181",
        "colab": {
          "base_uri": "https://localhost:8080/"
        }
      },
      "execution_count": 16,
      "outputs": [
        {
          "output_type": "stream",
          "name": "stdout",
          "text": [
            "<class 'pandas.core.series.Series'>\n",
            "                                           img_as_matrix  emotion\n",
            "5183   [[[87, 87, 87], [50, 50, 50], [97, 97, 97], [1...        1\n",
            "7982   [[[101, 101, 101], [87, 87, 87], [65, 65, 65],...        1\n",
            "25179  [[[61, 61, 61], [89, 89, 89], [89, 89, 89], [8...        6\n",
            "25663  [[[3, 3, 3], [3, 3, 3], [3, 3, 3], [3, 3, 3], ...        6\n",
            "3466   [[[140, 140, 140], [143, 143, 143], [142, 142,...        2\n",
            "...                                                  ...      ...\n",
            "25809  [[[13, 13, 13], [14, 14, 14], [18, 18, 18], [1...        6\n",
            "16771  [[[56, 56, 56], [67, 67, 67], [91, 91, 91], [7...        3\n",
            "5710   [[[47, 47, 47], [28, 28, 28], [50, 50, 50], [3...        4\n",
            "15307  [[[141, 141, 141], [142, 142, 142], [140, 140,...        2\n",
            "26086  [[[164, 164, 164], [177, 177, 177], [178, 178,...        6\n",
            "\n",
            "[24044 rows x 2 columns]\n"
          ]
        }
      ]
    },
    {
      "cell_type": "code",
      "source": [
        "def accuracy(preds, labels):\n",
        "  probabilities = torch.nn.functional.softmax(preds, dim=1)\n",
        "  _, predicted = torch.max(probabilities, dim=1)\n",
        "  n_correct = (predicted==labels).sum().float()\n",
        "\n",
        "  acc =n_correct / labels.shape[0]\n",
        "  acc= torch.round(acc*100)\n",
        "  return acc, n_correct;"
      ],
      "metadata": {
        "id": "4rPc52-TPyEs"
      },
      "execution_count": 9,
      "outputs": []
    },
    {
      "cell_type": "markdown",
      "source": [
        "# Resnet 50 Pytorch Code"
      ],
      "metadata": {
        "id": "c7t0zHoDHt2x"
      }
    },
    {
      "cell_type": "code",
      "source": [
        "class block(nn.Module):\n",
        "    def __init__(\n",
        "        self, in_channels, intermediate_channels, identity_downsample=None, stride=1\n",
        "    ):\n",
        "        super().__init__()\n",
        "        self.expansion = 4\n",
        "        self.conv1 = nn.Conv2d(\n",
        "            in_channels,\n",
        "            intermediate_channels,\n",
        "            kernel_size=1,\n",
        "            stride=1,\n",
        "            padding=0,\n",
        "            bias=False,\n",
        "        )\n",
        "        self.bn1 = nn.BatchNorm2d(intermediate_channels)\n",
        "        self.conv2 = nn.Conv2d(\n",
        "            intermediate_channels,\n",
        "            intermediate_channels,\n",
        "            kernel_size=3,\n",
        "            stride=stride,\n",
        "            padding=1,\n",
        "            bias=False,\n",
        "        )\n",
        "        self.bn2 = nn.BatchNorm2d(intermediate_channels)\n",
        "        self.conv3 = nn.Conv2d(\n",
        "            intermediate_channels,\n",
        "            intermediate_channels * self.expansion,\n",
        "            kernel_size=1,\n",
        "            stride=1,\n",
        "            padding=0,\n",
        "            bias=False,\n",
        "        )\n",
        "        self.bn3 = nn.BatchNorm2d(intermediate_channels * self.expansion)\n",
        "        self.relu = nn.ReLU()\n",
        "        self.identity_downsample = identity_downsample\n",
        "        self.stride = stride\n",
        "\n",
        "    def forward(self, x):\n",
        "        identity = x.clone()\n",
        "\n",
        "        x = self.conv1(x)\n",
        "        x = self.bn1(x)\n",
        "        x = self.relu(x)\n",
        "        x = self.conv2(x)\n",
        "        x = self.bn2(x)\n",
        "        x = self.relu(x)\n",
        "        x = self.conv3(x)\n",
        "        x = self.bn3(x)\n",
        "\n",
        "        if self.identity_downsample is not None:\n",
        "            identity = self.identity_downsample(identity)\n",
        "\n",
        "        x += identity\n",
        "        x = self.relu(x)\n",
        "        return x\n",
        "\n",
        "\n",
        "class ResNet(nn.Module):\n",
        "    def __init__(self, block, layers, image_channels, num_classes):\n",
        "        super(ResNet, self).__init__()\n",
        "        self.in_channels = 64\n",
        "        self.conv1 = nn.Conv2d(\n",
        "            image_channels, 64, kernel_size=7, stride=2, padding=3, bias=False\n",
        "        )\n",
        "        self.bn1 = nn.BatchNorm2d(64)\n",
        "        self.relu = nn.ReLU()\n",
        "        self.maxpool = nn.MaxPool2d(kernel_size=3, stride=2, padding=1)\n",
        "\n",
        "        # Essentially the entire ResNet architecture are in these 4 lines below\n",
        "        self.layer1 = self._make_layer(\n",
        "            block, layers[0], intermediate_channels=64, stride=1\n",
        "        )\n",
        "        self.layer2 = self._make_layer(\n",
        "            block, layers[1], intermediate_channels=128, stride=2\n",
        "        )\n",
        "        self.layer3 = self._make_layer(\n",
        "            block, layers[2], intermediate_channels=256, stride=2\n",
        "        )\n",
        "        self.layer4 = self._make_layer(\n",
        "            block, layers[3], intermediate_channels=512, stride=2\n",
        "        )\n",
        "\n",
        "        self.avgpool = nn.AdaptiveAvgPool2d((1, 1))\n",
        "        self.fc1 = nn.Linear(512 * 4, 512)\n",
        "        self.bn2 = nn.BatchNorm1d(512)\n",
        "        self.fc2 = nn.Linear(512, 256)\n",
        "        self.bn3 = nn.BatchNorm1d(256)        \n",
        "        self.fc3 = nn.Linear(256, num_classes)\n",
        "\n",
        "    def forward(self, x):\n",
        "        x = self.conv1(x)\n",
        "        x = self.bn1(x)\n",
        "        x = self.relu(x)\n",
        "        x = self.maxpool(x)\n",
        "        x = self.layer1(x)\n",
        "        x = self.layer2(x)\n",
        "        x = self.layer3(x)\n",
        "        x = self.layer4(x)\n",
        "\n",
        "        x = self.avgpool(x)\n",
        "        x = x.reshape(x.shape[0], -1)\n",
        "        x = self.fc1(x)\n",
        "        x = self.bn2(x)\n",
        "        x = self.fc2(x)\n",
        "        x = self.bn3(x)\n",
        "        x = self.fc3(x)\n",
        "\n",
        "        return x\n",
        "\n",
        "    def _make_layer(self, block, num_residual_blocks, intermediate_channels, stride):\n",
        "        identity_downsample = None\n",
        "        layers = []\n",
        "\n",
        "        # Either if we half the input space for ex, 56x56 -> 28x28 (stride=2), or channels changes\n",
        "        # we need to adapt the Identity (skip connection) so it will be able to be added\n",
        "        # to the layer that's ahead\n",
        "        if stride != 1 or self.in_channels != intermediate_channels * 4:\n",
        "            identity_downsample = nn.Sequential(\n",
        "                nn.Conv2d(\n",
        "                    self.in_channels,\n",
        "                    intermediate_channels * 4,\n",
        "                    kernel_size=1,\n",
        "                    stride=stride,\n",
        "                    bias=False,\n",
        "                ),\n",
        "                nn.BatchNorm2d(intermediate_channels * 4),\n",
        "            )\n",
        "\n",
        "        layers.append(\n",
        "            block(self.in_channels, intermediate_channels, identity_downsample, stride)\n",
        "        )\n",
        "\n",
        "        # The expansion size is always 4 for ResNet 50,101,152\n",
        "        self.in_channels = intermediate_channels * 4\n",
        "\n",
        "        # For example for first resnet layer: 256 will be mapped to 64 as intermediate layer,\n",
        "        # then finally back to 256. Hence no identity downsample is needed, since stride = 1,\n",
        "        # and also same amount of channels.\n",
        "        for i in range(num_residual_blocks - 1):\n",
        "            layers.append(block(self.in_channels, intermediate_channels))\n",
        "\n",
        "        return nn.Sequential(*layers)\n",
        "\n",
        "\n",
        "def ResNet50(img_channel=3, num_classes=7):\n",
        "    return ResNet(block, [3, 4, 6, 3], img_channel, num_classes)\n",
        "\n"
      ],
      "metadata": {
        "id": "Lig4-9-OH8S2"
      },
      "execution_count": 10,
      "outputs": []
    },
    {
      "cell_type": "code",
      "source": [
        "model = ResNet50().to(device)\n",
        "\n",
        "criterion = nn.CrossEntropyLoss()\n",
        "\n",
        "optimizer = torch.optim.SGD(model.parameters(), lr=0.01)"
      ],
      "metadata": {
        "id": "28GD409cP4AB"
      },
      "execution_count": 17,
      "outputs": []
    },
    {
      "cell_type": "code",
      "source": [
        "n_total_steps = len(train_loader)\n",
        "num_epochs = 20\n",
        "acc_list_train=[]\n",
        "acc_list_test=[]\n",
        "for epoch in range(num_epochs):\n",
        "\n",
        "    running_loss = 0.0\n",
        "    running_acc = 0.0\n",
        "\n",
        "    for i, (images, labels) in enumerate(train_loader):\n",
        "       \n",
        "      images = images.to(device)\n",
        "      labels = labels.to(device)\n",
        "\n",
        "      outputs = model(images)\n",
        "\n",
        "      loss = criterion(outputs, labels)\n",
        "      \n",
        "\n",
        "      acc, _ = accuracy(outputs, labels)\n",
        "\n",
        "      optimizer.zero_grad()      \n",
        "      loss.backward()            \n",
        "      optimizer.step()  \n",
        "      running_loss += loss.item()    \n",
        "      running_acc += acc.item()\n",
        "\n",
        "    print (f'Epoch [{epoch}/{num_epochs}], Loss: {running_loss/len(train_loader):.4f}, Acc: {running_acc/len(train_loader):.4f}')\n",
        "    acc_list_train.append(running_acc/len(train_loader))\n",
        "    tot_corrette = 0\n",
        "    tot_eseguite = 0\n",
        "    with torch.no_grad():\n",
        "\n",
        "      for images, labels in test_loader:\n",
        "          images = images.to(device)\n",
        "          labels = labels.to(device)\n",
        "        \n",
        "          outputs = model(images)\n",
        "          _, n_corrette=accuracy(outputs, labels)\n",
        "          \n",
        "          tot_corrette+=n_corrette.item()\n",
        "          tot_eseguite+=labels.shape[0]\n",
        "      test_acc=100* (tot_corrette/tot_eseguite)\n",
        "      acc_list_test.append(test_acc)\n",
        "      print(\"Test acc: \", test_acc)\n",
        "\n",
        "\n",
        "print('Finished Training')\n",
        "\n",
        "PATH = './cnn.pth'\n",
        "torch.save(model.state_dict(), PATH)"
      ],
      "metadata": {
        "colab": {
          "base_uri": "https://localhost:8080/"
        },
        "id": "MqTk-ssnQAMM",
        "outputId": "c4a09907-0986-41e0-bc01-c1d29657a875"
      },
      "execution_count": 18,
      "outputs": [
        {
          "output_type": "stream",
          "name": "stdout",
          "text": [
            "Epoch [0/20], Loss: 1.9889, Acc: 16.6250\n",
            "Test acc:  18.846576036477245\n",
            "Epoch [1/20], Loss: 1.9295, Acc: 20.6667\n",
            "Test acc:  22.11432913957612\n",
            "Epoch [2/20], Loss: 1.8994, Acc: 23.8750\n",
            "Test acc:  24.66435869289876\n",
            "Epoch [3/20], Loss: 1.8690, Acc: 26.6250\n",
            "Test acc:  26.15046863125897\n",
            "Epoch [4/20], Loss: 1.8401, Acc: 28.3750\n",
            "Test acc:  27.813898505446254\n",
            "Epoch [5/20], Loss: 1.8120, Acc: 30.0417\n",
            "Test acc:  29.561766444313097\n",
            "Epoch [6/20], Loss: 1.7634, Acc: 32.6667\n",
            "Test acc:  31.647386641898166\n",
            "Epoch [7/20], Loss: 1.7028, Acc: 34.9583\n",
            "Test acc:  33.22637845140589\n",
            "Epoch [8/20], Loss: 1.6437, Acc: 38.1250\n",
            "Test acc:  34.256522840496494\n",
            "Epoch [9/20], Loss: 1.5820, Acc: 40.7083\n",
            "Test acc:  35.60753187536942\n",
            "Epoch [10/20], Loss: 1.5174, Acc: 43.9583\n",
            "Test acc:  36.61234484505615\n",
            "Epoch [11/20], Loss: 1.4463, Acc: 46.6667\n",
            "Test acc:  36.66300768386389\n",
            "Epoch [12/20], Loss: 1.3828, Acc: 49.7500\n",
            "Test acc:  37.01764755551803\n",
            "Epoch [13/20], Loss: 1.2913, Acc: 53.2917\n",
            "Test acc:  37.135860846069406\n",
            "Epoch [14/20], Loss: 1.1991, Acc: 57.0417\n",
            "Test acc:  37.6340454276788\n",
            "Epoch [15/20], Loss: 1.1112, Acc: 61.0417\n",
            "Test acc:  37.7100396858904\n",
            "Epoch [16/20], Loss: 1.0296, Acc: 63.9583\n",
            "Test acc:  38.57130794562188\n",
            "Epoch [17/20], Loss: 0.9214, Acc: 68.1250\n",
            "Test acc:  37.4820569112556\n",
            "Epoch [18/20], Loss: 0.8298, Acc: 71.0833\n",
            "Test acc:  38.36865659039095\n",
            "Epoch [19/20], Loss: 0.6961, Acc: 76.5000\n",
            "Test acc:  39.38191336654564\n",
            "Finished Training\n"
          ]
        }
      ]
    },
    {
      "cell_type": "code",
      "source": [
        "\n",
        "# Creazione dell'asse x con gli indici delle liste\n",
        "epochs = range(1, len(acc_list_train) + 1)\n",
        "\n",
        "# Tracciamento delle due variabili come linee di colori diversi\n",
        "plt.plot(epochs, acc_list_train, 'b', label='Training Accuracy')\n",
        "plt.plot(epochs, acc_list_test, 'r', label='Test Accuracy')\n",
        "\n",
        "# Titoli degli assi\n",
        "plt.xlabel('Epochs')\n",
        "plt.ylabel('Accuracy')\n",
        "\n",
        "# Aggiunta di una legenda\n",
        "plt.legend()\n",
        "\n",
        "# Visualizzazione del grafico\n",
        "plt.show()"
      ],
      "metadata": {
        "id": "3JTADuzcEzcP",
        "outputId": "604e0f15-b75b-4abd-d777-0f44876ac4e0",
        "colab": {
          "base_uri": "https://localhost:8080/",
          "height": 449
        }
      },
      "execution_count": 19,
      "outputs": [
        {
          "output_type": "display_data",
          "data": {
            "text/plain": [
              "<Figure size 640x480 with 1 Axes>"
            ],
            "image/png": "[encoded data removed]"
          },
          "metadata": {}
        }
      ]
    },
    {
      "cell_type": "code",
      "source": [
        "with torch.no_grad():\n",
        "    tot_corrette = 0\n",
        "    tot_eseguite = 0\n",
        "    for images, labels in test_loader:\n",
        "        images = images.to(device)\n",
        "        labels = labels.to(device)\n",
        "       \n",
        "        outputs = model(images)\n",
        "        _, n_corrette=accuracy(outputs, labels)\n",
        "        tot_corrette+=n_corrette\n",
        "        tot_eseguite+=labels.shape[0]"
      ],
      "metadata": {
        "colab": {
          "base_uri": "https://localhost:8080/"
        },
        "id": "oJoj04GlT1vO",
        "outputId": "85f8df96-163d-412d-b99e-82256394768b"
      },
      "execution_count": 67,
      "outputs": [
        {
          "output_type": "stream",
          "name": "stdout",
          "text": [
            "ACC ON TEST SET:  tensor(38., device='cuda:0')\n",
            "ACC ON TEST SET:  tensor(40., device='cuda:0')\n",
            "ACC ON TEST SET:  tensor(39., device='cuda:0')\n",
            "ACC ON TEST SET:  tensor(38., device='cuda:0')\n",
            "ACC ON TEST SET:  tensor(40., device='cuda:0')\n",
            "ACC ON TEST SET:  tensor(40., device='cuda:0')\n",
            "ACC ON TEST SET:  tensor(43., device='cuda:0')\n",
            "ACC ON TEST SET:  tensor(40., device='cuda:0')\n",
            "ACC ON TEST SET:  tensor(38., device='cuda:0')\n",
            "ACC ON TEST SET:  tensor(37., device='cuda:0')\n",
            "ACC ON TEST SET:  tensor(40., device='cuda:0')\n",
            "ACC ON TEST SET:  tensor(38., device='cuda:0')\n"
          ]
        }
      ]
    }
  ]
}