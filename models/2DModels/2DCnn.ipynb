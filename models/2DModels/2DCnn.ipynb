{
  "nbformat": 4,
  "nbformat_minor": 0,
  "metadata": {
    "colab": {
      "provenance": [],
      "gpuType": "T4",
      "include_colab_link": true
    },
    "kernelspec": {
      "name": "python3",
      "display_name": "Python 3"
    },
    "language_info": {
      "name": "python"
    },
    "accelerator": "GPU"
  },
  "cells": [
    {
      "cell_type": "markdown",
      "metadata": {
        "id": "view-in-github",
        "colab_type": "text"
      },
      "source": [
        "<a href=\"https://colab.research.google.com/github/GerardoFesta/3DFER_SE4AI/blob/main/models/2DModels/2DCnn.ipynb\" target=\"_parent\"><img src=\"https://colab.research.google.com/assets/colab-badge.svg\" alt=\"Open In Colab\"/></a>"
      ]
    },
    {
      "cell_type": "code",
      "source": [
        "import os\n",
        "from google.colab import drive\n",
        "drive.mount(\"/content/drive\")\n",
        "import zipfile\n"
      ],
      "metadata": {
        "id": "nt82bh71Me7J",
        "outputId": "2edbf973-0286-4a09-b9e8-2b64ff9aa133",
        "colab": {
          "base_uri": "https://localhost:8080/"
        }
      },
      "execution_count": 17,
      "outputs": [
        {
          "output_type": "stream",
          "name": "stdout",
          "text": [
            "Mounted at /content/drive\n"
          ]
        }
      ]
    },
    {
      "cell_type": "code",
      "source": [
        "!pip install -q mlflow\n",
        "!databricks configure --host https://community.cloud.databricks.com/"
      ],
      "metadata": {
        "id": "olRUqsyWhwIe",
        "outputId": "d0202680-da6f-406b-8fd3-14af3876634a",
        "colab": {
          "base_uri": "https://localhost:8080/"
        }
      },
      "execution_count": 18,
      "outputs": [
        {
          "output_type": "stream",
          "name": "stdout",
          "text": [
            "Username: gfesta24@gmail.com\n",
            "Password: \n",
            "Repeat for confirmation: \n"
          ]
        }
      ]
    },
    {
      "cell_type": "code",
      "source": [
        "zip_ref = zipfile.ZipFile('drive/Shareddrives/Datasets SEFAI/fer2013.zip', 'r') #Opens the zip file in read mode\n",
        "zip_ref.extractall() #Extracts the files into the /tmp folder\n",
        "zip_ref.close()"
      ],
      "metadata": {
        "id": "x3PzBCC76kDU"
      },
      "execution_count": 19,
      "outputs": []
    },
    {
      "cell_type": "code",
      "execution_count": 20,
      "metadata": {
        "id": "JyI6JfnaBNPU"
      },
      "outputs": [],
      "source": [
        "import torch\n",
        "import torch.nn as nn\n",
        "import torch.optim as optim\n",
        "from torch.utils.data import DataLoader\n",
        "import torchvision.transforms as transforms\n",
        "from torchvision.datasets import ImageFolder\n",
        "device = torch.device('cuda' if torch.cuda.is_available() else 'cpu')"
      ]
    },
    {
      "cell_type": "code",
      "source": [
        "device = torch.device('cuda' if torch.cuda.is_available() else 'cpu')\n",
        "#Questo commento serve per provare il funzionamento dei commit con colab"
      ],
      "metadata": {
        "id": "C5AbMnPdCehg"
      },
      "execution_count": 21,
      "outputs": []
    },
    {
      "cell_type": "markdown",
      "source": [
        "# **Dataset Loading**"
      ],
      "metadata": {
        "id": "pZUeJ0PHEVAQ"
      }
    },
    {
      "cell_type": "code",
      "source": [
        "train_dir = \"train\" # Directory containing the training data\n",
        "test_dir = \"test\"  # Directory containing the validation data\n",
        "\n",
        "# Define the transforms\n",
        "train_transform = transforms.Compose([\n",
        "    transforms.RandomHorizontalFlip(),\n",
        "    transforms.RandomVerticalFlip(),\n",
        "    transforms.Grayscale(),\n",
        "    transforms.ToTensor(),\n",
        "    transforms.Normalize(mean=[0.5], std=[0.5]),\n",
        "\n",
        "])\n",
        "\n",
        "test_transform = transforms.Compose([\n",
        "    transforms.Grayscale(),\n",
        "    transforms.ToTensor(),\n",
        "    transforms.Normalize(mean=[0.5], std=[0.5])\n",
        "])\n",
        "\n",
        "train_dataset = ImageFolder(train_dir, transform=train_transform)\n",
        "test_dataset = ImageFolder(test_dir, transform=test_transform)\n",
        "\n",
        "train_loader = DataLoader(train_dataset, batch_size=64, shuffle=True)\n",
        "test_loader = DataLoader(test_dataset, batch_size=64, shuffle=False)\n"
      ],
      "metadata": {
        "id": "bl34X6SU93Vf"
      },
      "execution_count": 22,
      "outputs": []
    },
    {
      "cell_type": "markdown",
      "source": [
        "# **Rete convolutiva**"
      ],
      "metadata": {
        "id": "AfkDTdOnczbU"
      }
    },
    {
      "cell_type": "code",
      "source": [
        "def accuracy(preds, labels):\n",
        "  probabilities = torch.nn.functional.softmax(preds, dim=1)\n",
        "  _, predicted = torch.max(probabilities, 1)\n",
        "  n_correct = (predicted==labels).sum().float()\n",
        "\n",
        "  acc =n_correct / labels.shape[0]\n",
        "  acc= torch.round(acc*100)\n",
        "  return acc, n_correct;\n"
      ],
      "metadata": {
        "id": "iJyvVmbzJXVO"
      },
      "execution_count": 23,
      "outputs": []
    },
    {
      "cell_type": "code",
      "source": [
        "\n",
        "class CNN(nn.Module):\n",
        "    def __init__(self):\n",
        "\n",
        "        super(CNN, self).__init__()\n",
        "\n",
        "\n",
        "        self.conv1 = nn.Conv2d(1, 32, kernel_size=3, padding=1)\n",
        "        self.bn1 = nn.BatchNorm2d(32)\n",
        "        self.relu1 = nn.ReLU()\n",
        "        self.conv2 = nn.Conv2d(32, 64, kernel_size=3, padding=1)\n",
        "        self.bn2 = nn.BatchNorm2d(64)\n",
        "        self.relu2 = nn.ReLU()\n",
        "        self.pool1 = nn.MaxPool2d(2, 2)\n",
        "        self.dropout1 = nn.Dropout(0.25)\n",
        "\n",
        "        self.conv3 = nn.Conv2d(64, 128, kernel_size=3, padding=1)\n",
        "        self.bn3 = nn.BatchNorm2d(128)\n",
        "        self.relu3 = nn.ReLU()\n",
        "        self.conv4 = nn.Conv2d(128, 128, kernel_size=3, padding=1)\n",
        "        self.bn4 = nn.BatchNorm2d(128)\n",
        "        self.relu4 = nn.ReLU()\n",
        "        self.pool2 = nn.MaxPool2d(2, 2)\n",
        "        self.dropout2 = nn.Dropout(0.25)\n",
        "\n",
        "        self.conv5 = nn.Conv2d(128, 256, kernel_size=3, padding=1)\n",
        "        self.bn5 = nn.BatchNorm2d(256)\n",
        "        self.relu5 = nn.ReLU()\n",
        "\n",
        "        self.conv6 = nn.Conv2d(256, 256, kernel_size=3, padding=1)\n",
        "        self.bn6 = nn.BatchNorm2d(256)\n",
        "        self.relu6 = nn.ReLU()\n",
        "        self.pool3 = nn.MaxPool2d(2, 2)\n",
        "        self.dropout3 = nn.Dropout(0.25)\n",
        "\n",
        "        self.fc1 = nn.Linear(256 * 6 * 6, 256)\n",
        "\n",
        "        self.bn7 = nn.BatchNorm1d(256)\n",
        "        self.relu7 = nn.ReLU()\n",
        "\n",
        "        self.dropout4 = nn.Dropout(0.5)\n",
        "\n",
        "        self.fc2 = nn.Linear(256, 7)\n",
        "\n",
        "    def forward(self, x):\n",
        "        x = self.conv1(x)\n",
        "        x = self.bn1(x)\n",
        "        x = self.relu1(x)\n",
        "\n",
        "        x = self.conv2(x)\n",
        "        x = self.bn2(x)\n",
        "        x = self.relu2(x)\n",
        "\n",
        "        x = self.pool1(x)\n",
        "\n",
        "        x = self.dropout1(x)\n",
        "        #print(\"dropout1 \", x.shape)\n",
        "\n",
        "        x = self.conv3(x)\n",
        "        x = self.bn3(x)\n",
        "        x = self.relu3(x)\n",
        "\n",
        "        x = self.conv4(x)\n",
        "        #print(\"conv4 \", x.shape)\n",
        "        x = self.bn4(x)\n",
        "        x = self.relu4(x)\n",
        "\n",
        "        x = self.pool2(x)\n",
        "\n",
        "        x = self.dropout2(x)\n",
        "\n",
        "\n",
        "        x = self.conv5(x)\n",
        "        x = self.bn5(x)\n",
        "        x = self.relu5(x)\n",
        "\n",
        "        x = self.conv6(x)\n",
        "        #print(\"conv6 \", x.shape)\n",
        "        x = self.bn6(x)\n",
        "        x = self.relu6(x)\n",
        "\n",
        "        x = self.pool3(x)\n",
        "        x = self.dropout3(x)\n",
        "        #print(\"dropout3 \", x.shape)\n",
        "        x = x.view(-1, 256 * 6 * 6)\n",
        "        #print(x.shape)\n",
        "        x = self.fc1(x)\n",
        "        x = self.bn7(x)\n",
        "        x = self.relu7(x)\n",
        "        x = self.dropout4(x)\n",
        "        x = self.fc2(x)\n",
        "        return x\n",
        "\n"
      ],
      "metadata": {
        "id": "E5qDv9UfZonY"
      },
      "execution_count": 24,
      "outputs": []
    },
    {
      "cell_type": "code",
      "source": [
        "model = CNN()\n",
        "\n",
        "criterion = nn.CrossEntropyLoss()\n",
        "\n",
        "optimizer = optim.Adam(model.parameters(), lr=0.0001)\n",
        "\n",
        "model.to(device)"
      ],
      "metadata": {
        "id": "U8n88ptP5Esw",
        "outputId": "c47587dd-3442-482a-daa3-2f72ab3c72aa",
        "colab": {
          "base_uri": "https://localhost:8080/"
        }
      },
      "execution_count": null,
      "outputs": [
        {
          "output_type": "execute_result",
          "data": {
            "text/plain": [
              "CNN(\n",
              "  (conv1): Conv2d(1, 32, kernel_size=(3, 3), stride=(1, 1), padding=(1, 1))\n",
              "  (bn1): BatchNorm2d(32, eps=1e-05, momentum=0.1, affine=True, track_running_stats=True)\n",
              "  (relu1): ReLU()\n",
              "  (conv2): Conv2d(32, 64, kernel_size=(3, 3), stride=(1, 1), padding=(1, 1))\n",
              "  (bn2): BatchNorm2d(64, eps=1e-05, momentum=0.1, affine=True, track_running_stats=True)\n",
              "  (relu2): ReLU()\n",
              "  (pool1): MaxPool2d(kernel_size=2, stride=2, padding=0, dilation=1, ceil_mode=False)\n",
              "  (dropout1): Dropout(p=0.25, inplace=False)\n",
              "  (conv3): Conv2d(64, 128, kernel_size=(3, 3), stride=(1, 1), padding=(1, 1))\n",
              "  (bn3): BatchNorm2d(128, eps=1e-05, momentum=0.1, affine=True, track_running_stats=True)\n",
              "  (relu3): ReLU()\n",
              "  (conv4): Conv2d(128, 128, kernel_size=(3, 3), stride=(1, 1), padding=(1, 1))\n",
              "  (bn4): BatchNorm2d(128, eps=1e-05, momentum=0.1, affine=True, track_running_stats=True)\n",
              "  (relu4): ReLU()\n",
              "  (pool2): MaxPool2d(kernel_size=2, stride=2, padding=0, dilation=1, ceil_mode=False)\n",
              "  (dropout2): Dropout(p=0.25, inplace=False)\n",
              "  (conv5): Conv2d(128, 256, kernel_size=(3, 3), stride=(1, 1), padding=(1, 1))\n",
              "  (bn5): BatchNorm2d(256, eps=1e-05, momentum=0.1, affine=True, track_running_stats=True)\n",
              "  (relu5): ReLU()\n",
              "  (conv6): Conv2d(256, 256, kernel_size=(3, 3), stride=(1, 1), padding=(1, 1))\n",
              "  (bn6): BatchNorm2d(256, eps=1e-05, momentum=0.1, affine=True, track_running_stats=True)\n",
              "  (relu6): ReLU()\n",
              "  (pool3): MaxPool2d(kernel_size=2, stride=2, padding=0, dilation=1, ceil_mode=False)\n",
              "  (dropout3): Dropout(p=0.25, inplace=False)\n",
              "  (fc1): Linear(in_features=9216, out_features=256, bias=True)\n",
              "  (bn7): BatchNorm1d(256, eps=1e-05, momentum=0.1, affine=True, track_running_stats=True)\n",
              "  (relu7): ReLU()\n",
              "  (dropout4): Dropout(p=0.5, inplace=False)\n",
              "  (fc2): Linear(in_features=256, out_features=7, bias=True)\n",
              ")"
            ]
          },
          "metadata": {},
          "execution_count": 9
        }
      ]
    },
    {
      "cell_type": "code",
      "source": [
        "import mlflow\n",
        "mlflow.set_tracking_uri(\"databricks\")\n",
        "mlflow.set_experiment(\"/Users/gfesta24@gmail.com/2DCnn\")"
      ],
      "metadata": {
        "id": "3RJTmGPAiSOy",
        "outputId": "ec580191-ee0f-40f2-96fa-14a2c978fd9c",
        "colab": {
          "base_uri": "https://localhost:8080/"
        }
      },
      "execution_count": 25,
      "outputs": [
        {
          "output_type": "execute_result",
          "data": {
            "text/plain": [
              "<Experiment: artifact_location='dbfs:/databricks/mlflow-tracking/1645340172644810', creation_time=1687361115096, experiment_id='1645340172644810', last_update_time=1687943165954, lifecycle_stage='active', name='/Users/gfesta24@gmail.com/2DCnn', tags={'mlflow.experiment.sourceName': '/Users/gfesta24@gmail.com/2DCnn',\n",
              " 'mlflow.experimentType': 'MLFLOW_EXPERIMENT',\n",
              " 'mlflow.ownerEmail': 'gfesta24@gmail.com',\n",
              " 'mlflow.ownerId': '1923923806180228'}>"
            ]
          },
          "metadata": {},
          "execution_count": 25
        }
      ]
    },
    {
      "cell_type": "code",
      "source": [
        "mlflow.start_run()\n",
        "\n",
        "mlflow.set_tag(\"model_name\", \"2DCnn\")\n",
        "mlflow.log_param(\"lr\", 0.001)\n",
        "mlflow.log_param(\"batch_size\", 64)\n",
        "\n",
        "acc_list_train=[]\n",
        "acc_list_test=[]\n",
        "num_epochs = 100\n",
        "best_loss = 1000\n",
        "patience=3\n",
        "counter = 0\n",
        "stop = False\n",
        "\n",
        "# Training loop\n",
        "best_accuracy = 0.0\n",
        "\n",
        "for epoch in range(num_epochs):\n",
        "    print(counter)\n",
        "    if stop:\n",
        "      print(stop)\n",
        "      break\n",
        "    model.train()\n",
        "    running_loss = 0.0\n",
        "    total_correct = 0\n",
        "    seen = 0\n",
        "    for images, labels in train_loader:\n",
        "        images = images.to(device)\n",
        "        labels = labels.to(device)\n",
        "\n",
        "        optimizer.zero_grad()\n",
        "\n",
        "        outputs = model(images)\n",
        "        loss = criterion(outputs, labels)\n",
        "        loss.backward()\n",
        "        optimizer.step()\n",
        "        _, acc = accuracy(outputs, labels)\n",
        "        total_correct += acc\n",
        "        seen +=labels.shape[0]\n",
        "        running_loss += loss.item()\n",
        "\n",
        "    train_accuracy = total_correct / seen\n",
        "    train_loss = running_loss / len(train_loader)\n",
        "    print (f'Epoch [{epoch}/{num_epochs}], Loss: {running_loss/len(train_loader):.4f}, Acc: {total_correct/seen:.4f}')\n",
        "    mlflow.log_metric(\"train_loss\", train_loss, step=epoch)\n",
        "    mlflow.log_metric(\"train_acc\", train_accuracy, step=epoch)\n",
        "    model.eval()\n",
        "\n",
        "    total_correct = 0\n",
        "    seen = 0\n",
        "    running_loss = 0.0\n",
        "    with torch.no_grad():\n",
        "        for images, labels in test_loader:\n",
        "            images = images.to(device)\n",
        "            labels = labels.to(device)\n",
        "\n",
        "            outputs = model(images)\n",
        "            loss = criterion(outputs, labels)\n",
        "            running_loss += loss.item()\n",
        "            _, acc = accuracy(outputs, labels)\n",
        "            total_correct += acc\n",
        "            seen +=labels.shape[0]\n",
        "\n",
        "    test_accuracy = total_correct / seen\n",
        "    test_loss = running_loss / len(test_loader)\n",
        "    print(\"Test acc: \", test_accuracy)\n",
        "    print(\"Test loss: \", test_loss)\n",
        "    mlflow.log_metric(\"test_acc\", test_accuracy, step=epoch)\n",
        "    mlflow.log_metric(\"test_loss\", test_loss, step=epoch)\n",
        "\n",
        "    if test_loss < best_loss:\n",
        "          print(\"MIGLIORATO\")\n",
        "          torch.save(model.state_dict(), 'model_weights.pth')\n",
        "          best_loss = test_loss\n",
        "          best_model_train_acc=train_accuracy\n",
        "          best_model_test_acc=test_accuracy\n",
        "          best_model_test_loss=test_loss\n",
        "          best_model_train_loss=running_loss / len(train_loader)\n",
        "          counter = 0\n",
        "          # Salva i pesi del modello se la validation loss è migliorata\n",
        "          torch.save(model.state_dict(), 'best_model.pt')\n",
        "    else:\n",
        "        counter += 1\n",
        "        # Verifica se raggiunto il criterio di early stopping\n",
        "        if counter >= patience:\n",
        "              print(f'Early stopping at epoch {epoch+1}')\n",
        "              mlflow.set_tag(\"Epochs_stopped\", epoch+1)\n",
        "              mlflow.log_artifact(\"best_model.pt\")\n",
        "              mlflow.log_metric(\"best_test_acc\", best_model_test_acc)\n",
        "              mlflow.log_metric(\"best_test_loss\", best_model_test_loss)\n",
        "              mlflow.log_metric(\"best_train_acc\", best_model_train_acc)\n",
        "              mlflow.log_metric(\"best_train_loss\", best_model_train_loss)\n",
        "              mlflow.end_run()\n",
        "              stop=True\n",
        "    print(\"BEST TEST LOSS: \", best_loss)\n",
        "\n",
        "    print(f\"Epoch {epoch+1}/{50}, Train Loss: {train_loss:.4f}, Train Accuracy: {train_accuracy:.4f}, Test Accuracy: {test_accuracy:.4f}, Test Loss: {test_loss:.4f}\")\n"
      ],
      "metadata": {
        "id": "0keHfEhx7LK5",
        "outputId": "e5441b0e-838c-4ee3-fad6-611f3e07d946",
        "colab": {
          "base_uri": "https://localhost:8080/"
        }
      },
      "execution_count": null,
      "outputs": [
        {
          "output_type": "stream",
          "name": "stdout",
          "text": [
            "0\n",
            "Epoch [0/100], Loss: 1.7801, Acc: 0.2896\n",
            "Test acc:  tensor(0.3534, device='cuda:0')\n",
            "Test loss:  1.6376861676705623\n",
            "MIGLIORATO\n",
            "BEST TEST LOSS:  1.6376861676705623\n",
            "Epoch 1/50, Train Loss: 1.7801, Train Accuracy: 0.2896, Test Accuracy: 0.3534, Test Loss: 1.6377\n",
            "0\n",
            "Epoch [1/100], Loss: 1.5701, Acc: 0.3909\n",
            "Test acc:  tensor(0.4369, device='cuda:0')\n",
            "Test loss:  1.4607492716966477\n",
            "MIGLIORATO\n",
            "BEST TEST LOSS:  1.4607492716966477\n",
            "Epoch 2/50, Train Loss: 1.5701, Train Accuracy: 0.3909, Test Accuracy: 0.4369, Test Loss: 1.4607\n",
            "0\n",
            "Epoch [2/100], Loss: 1.4577, Acc: 0.4425\n",
            "Test acc:  tensor(0.4716, device='cuda:0')\n",
            "Test loss:  1.3817282582806274\n",
            "MIGLIORATO\n",
            "BEST TEST LOSS:  1.3817282582806274\n",
            "Epoch 3/50, Train Loss: 1.4577, Train Accuracy: 0.4425, Test Accuracy: 0.4716, Test Loss: 1.3817\n",
            "0\n",
            "Epoch [3/100], Loss: 1.3857, Acc: 0.4732\n",
            "Test acc:  tensor(0.4985, device='cuda:0')\n",
            "Test loss:  1.2935475018699611\n",
            "MIGLIORATO\n",
            "BEST TEST LOSS:  1.2935475018699611\n",
            "Epoch 4/50, Train Loss: 1.3857, Train Accuracy: 0.4732, Test Accuracy: 0.4985, Test Loss: 1.2935\n",
            "0\n",
            "Epoch [4/100], Loss: 1.3304, Acc: 0.4904\n",
            "Test acc:  tensor(0.5152, device='cuda:0')\n",
            "Test loss:  1.2539041975958158\n",
            "MIGLIORATO\n",
            "BEST TEST LOSS:  1.2539041975958158\n",
            "Epoch 5/50, Train Loss: 1.3304, Train Accuracy: 0.4904, Test Accuracy: 0.5152, Test Loss: 1.2539\n",
            "0\n",
            "Epoch [5/100], Loss: 1.2942, Acc: 0.5077\n",
            "Test acc:  tensor(0.5352, device='cuda:0')\n",
            "Test loss:  1.2140265170451814\n",
            "MIGLIORATO\n",
            "BEST TEST LOSS:  1.2140265170451814\n",
            "Epoch 6/50, Train Loss: 1.2942, Train Accuracy: 0.5077, Test Accuracy: 0.5352, Test Loss: 1.2140\n",
            "0\n",
            "Epoch [6/100], Loss: 1.2595, Acc: 0.5198\n",
            "Test acc:  tensor(0.5460, device='cuda:0')\n",
            "Test loss:  1.182543774885414\n",
            "MIGLIORATO\n",
            "BEST TEST LOSS:  1.182543774885414\n",
            "Epoch 7/50, Train Loss: 1.2595, Train Accuracy: 0.5198, Test Accuracy: 0.5460, Test Loss: 1.1825\n",
            "0\n",
            "Epoch [7/100], Loss: 1.2288, Acc: 0.5331\n",
            "Test acc:  tensor(0.5474, device='cuda:0')\n",
            "Test loss:  1.1750812003042845\n",
            "MIGLIORATO\n",
            "BEST TEST LOSS:  1.1750812003042845\n",
            "Epoch 8/50, Train Loss: 1.2288, Train Accuracy: 0.5331, Test Accuracy: 0.5474, Test Loss: 1.1751\n",
            "0\n",
            "Epoch [8/100], Loss: 1.2052, Acc: 0.5407\n",
            "Test acc:  tensor(0.5591, device='cuda:0')\n",
            "Test loss:  1.1462815483059503\n",
            "MIGLIORATO\n",
            "BEST TEST LOSS:  1.1462815483059503\n",
            "Epoch 9/50, Train Loss: 1.2052, Train Accuracy: 0.5407, Test Accuracy: 0.5591, Test Loss: 1.1463\n",
            "0\n",
            "Epoch [9/100], Loss: 1.1790, Acc: 0.5534\n",
            "Test acc:  tensor(0.5698, device='cuda:0')\n",
            "Test loss:  1.1225343676267472\n",
            "MIGLIORATO\n",
            "BEST TEST LOSS:  1.1225343676267472\n",
            "Epoch 10/50, Train Loss: 1.1790, Train Accuracy: 0.5534, Test Accuracy: 0.5698, Test Loss: 1.1225\n",
            "0\n",
            "Epoch [10/100], Loss: 1.1591, Acc: 0.5627\n",
            "Test acc:  tensor(0.5651, device='cuda:0')\n",
            "Test loss:  1.1461412658733605\n",
            "BEST TEST LOSS:  1.1225343676267472\n",
            "Epoch 11/50, Train Loss: 1.1591, Train Accuracy: 0.5627, Test Accuracy: 0.5651, Test Loss: 1.1461\n",
            "1\n",
            "Epoch [11/100], Loss: 1.1411, Acc: 0.5676\n",
            "Test acc:  tensor(0.5768, device='cuda:0')\n",
            "Test loss:  1.1060225407106687\n",
            "MIGLIORATO\n",
            "BEST TEST LOSS:  1.1060225407106687\n",
            "Epoch 12/50, Train Loss: 1.1411, Train Accuracy: 0.5676, Test Accuracy: 0.5768, Test Loss: 1.1060\n",
            "0\n",
            "Epoch [12/100], Loss: 1.1281, Acc: 0.5728\n",
            "Test acc:  tensor(0.5789, device='cuda:0')\n",
            "Test loss:  1.0998829297259844\n",
            "MIGLIORATO\n",
            "BEST TEST LOSS:  1.0998829297259844\n",
            "Epoch 13/50, Train Loss: 1.1281, Train Accuracy: 0.5728, Test Accuracy: 0.5789, Test Loss: 1.0999\n",
            "0\n",
            "Epoch [13/100], Loss: 1.1102, Acc: 0.5817\n",
            "Test acc:  tensor(0.5839, device='cuda:0')\n",
            "Test loss:  1.0855206630926217\n",
            "MIGLIORATO\n",
            "BEST TEST LOSS:  1.0855206630926217\n",
            "Epoch 14/50, Train Loss: 1.1102, Train Accuracy: 0.5817, Test Accuracy: 0.5839, Test Loss: 1.0855\n",
            "0\n",
            "Epoch [14/100], Loss: 1.0957, Acc: 0.5848\n",
            "Test acc:  tensor(0.5899, device='cuda:0')\n",
            "Test loss:  1.0724799973247325\n",
            "MIGLIORATO\n",
            "BEST TEST LOSS:  1.0724799973247325\n",
            "Epoch 15/50, Train Loss: 1.0957, Train Accuracy: 0.5848, Test Accuracy: 0.5899, Test Loss: 1.0725\n",
            "0\n",
            "Epoch [15/100], Loss: 1.0883, Acc: 0.5868\n",
            "Test acc:  tensor(0.6032, device='cuda:0')\n",
            "Test loss:  1.0560132196519227\n",
            "MIGLIORATO\n",
            "BEST TEST LOSS:  1.0560132196519227\n",
            "Epoch 16/50, Train Loss: 1.0883, Train Accuracy: 0.5868, Test Accuracy: 0.6032, Test Loss: 1.0560\n",
            "0\n",
            "Epoch [16/100], Loss: 1.0740, Acc: 0.5934\n",
            "Test acc:  tensor(0.6039, device='cuda:0')\n",
            "Test loss:  1.0511778516579517\n",
            "MIGLIORATO\n",
            "BEST TEST LOSS:  1.0511778516579517\n",
            "Epoch 17/50, Train Loss: 1.0740, Train Accuracy: 0.5934, Test Accuracy: 0.6039, Test Loss: 1.0512\n",
            "0\n",
            "Epoch [17/100], Loss: 1.0564, Acc: 0.5993\n",
            "Test acc:  tensor(0.6042, device='cuda:0')\n",
            "Test loss:  1.0578951048376286\n",
            "BEST TEST LOSS:  1.0511778516579517\n",
            "Epoch 18/50, Train Loss: 1.0564, Train Accuracy: 0.5993, Test Accuracy: 0.6042, Test Loss: 1.0579\n",
            "1\n",
            "Epoch [18/100], Loss: 1.0501, Acc: 0.6026\n",
            "Test acc:  tensor(0.6042, device='cuda:0')\n",
            "Test loss:  1.0535047592314999\n",
            "BEST TEST LOSS:  1.0511778516579517\n",
            "Epoch 19/50, Train Loss: 1.0501, Train Accuracy: 0.6026, Test Accuracy: 0.6042, Test Loss: 1.0535\n",
            "2\n",
            "Epoch [19/100], Loss: 1.0384, Acc: 0.6073\n",
            "Test acc:  tensor(0.6038, device='cuda:0')\n",
            "Test loss:  1.0249597322096866\n",
            "MIGLIORATO\n",
            "BEST TEST LOSS:  1.0249597322096866\n",
            "Epoch 20/50, Train Loss: 1.0384, Train Accuracy: 0.6073, Test Accuracy: 0.6038, Test Loss: 1.0250\n",
            "0\n",
            "Epoch [20/100], Loss: 1.0251, Acc: 0.6129\n",
            "Test acc:  tensor(0.6120, device='cuda:0')\n",
            "Test loss:  1.0354161162292008\n",
            "BEST TEST LOSS:  1.0249597322096866\n",
            "Epoch 21/50, Train Loss: 1.0251, Train Accuracy: 0.6129, Test Accuracy: 0.6120, Test Loss: 1.0354\n",
            "1\n",
            "Epoch [21/100], Loss: 1.0130, Acc: 0.6189\n",
            "Test acc:  tensor(0.6198, device='cuda:0')\n",
            "Test loss:  1.0104902940513814\n",
            "MIGLIORATO\n",
            "BEST TEST LOSS:  1.0104902940513814\n",
            "Epoch 22/50, Train Loss: 1.0130, Train Accuracy: 0.6189, Test Accuracy: 0.6198, Test Loss: 1.0105\n",
            "0\n",
            "Epoch [22/100], Loss: 1.0075, Acc: 0.6206\n",
            "Test acc:  tensor(0.6066, device='cuda:0')\n",
            "Test loss:  1.0443090430535047\n",
            "BEST TEST LOSS:  1.0104902940513814\n",
            "Epoch 23/50, Train Loss: 1.0075, Train Accuracy: 0.6206, Test Accuracy: 0.6066, Test Loss: 1.0443\n",
            "1\n",
            "Epoch [23/100], Loss: 0.9983, Acc: 0.6210\n",
            "Test acc:  tensor(0.6089, device='cuda:0')\n",
            "Test loss:  1.0307339539306353\n",
            "BEST TEST LOSS:  1.0104902940513814\n",
            "Epoch 24/50, Train Loss: 0.9983, Train Accuracy: 0.6210, Test Accuracy: 0.6089, Test Loss: 1.0307\n",
            "2\n",
            "Epoch [24/100], Loss: 0.9887, Acc: 0.6271\n",
            "Test acc:  tensor(0.6245, device='cuda:0')\n",
            "Test loss:  1.0032589794260212\n",
            "MIGLIORATO\n",
            "BEST TEST LOSS:  1.0032589794260212\n",
            "Epoch 25/50, Train Loss: 0.9887, Train Accuracy: 0.6271, Test Accuracy: 0.6245, Test Loss: 1.0033\n",
            "0\n",
            "Epoch [25/100], Loss: 0.9833, Acc: 0.6311\n",
            "Test acc:  tensor(0.6177, device='cuda:0')\n",
            "Test loss:  1.0024322801459151\n",
            "MIGLIORATO\n",
            "BEST TEST LOSS:  1.0024322801459151\n",
            "Epoch 26/50, Train Loss: 0.9833, Train Accuracy: 0.6311, Test Accuracy: 0.6177, Test Loss: 1.0024\n",
            "0\n",
            "Epoch [26/100], Loss: 0.9678, Acc: 0.6368\n",
            "Test acc:  tensor(0.6257, device='cuda:0')\n",
            "Test loss:  1.0015101480273019\n",
            "MIGLIORATO\n",
            "BEST TEST LOSS:  1.0015101480273019\n",
            "Epoch 27/50, Train Loss: 0.9678, Train Accuracy: 0.6368, Test Accuracy: 0.6257, Test Loss: 1.0015\n",
            "0\n",
            "Epoch [27/100], Loss: 0.9664, Acc: 0.6383\n",
            "Test acc:  tensor(0.6194, device='cuda:0')\n",
            "Test loss:  1.0074193493454857\n",
            "BEST TEST LOSS:  1.0015101480273019\n",
            "Epoch 28/50, Train Loss: 0.9664, Train Accuracy: 0.6383, Test Accuracy: 0.6194, Test Loss: 1.0074\n",
            "1\n",
            "Epoch [28/100], Loss: 0.9546, Acc: 0.6426\n",
            "Test acc:  tensor(0.6216, device='cuda:0')\n",
            "Test loss:  1.0016978663944565\n",
            "BEST TEST LOSS:  1.0015101480273019\n",
            "Epoch 29/50, Train Loss: 0.9546, Train Accuracy: 0.6426, Test Accuracy: 0.6216, Test Loss: 1.0017\n",
            "2\n",
            "Epoch [29/100], Loss: 0.9494, Acc: 0.6469\n",
            "Test acc:  tensor(0.6211, device='cuda:0')\n",
            "Test loss:  1.001513595074679\n",
            "Early stopping at epoch 30\n",
            "BEST TEST LOSS:  1.0015101480273019\n",
            "Epoch 30/50, Train Loss: 0.9494, Train Accuracy: 0.6469, Test Accuracy: 0.6211, Test Loss: 1.0015\n",
            "3\n",
            "True\n"
          ]
        }
      ]
    },
    {
      "cell_type": "code",
      "source": [
        "def get_artifact_with_lowest_metric(experiment_id, metric_name, artifact_name):\n",
        "    runs = mlflow.search_runs(experiment_ids=[experiment_id]).sort_values(f\"{metric_name}\")\n",
        "    lowest_metric_run = runs.iloc[0]\n",
        "\n",
        "    run_id = lowest_metric_run.run_id\n",
        "    artifact_uri = mlflow.get_artifact_uri(run_id)\n",
        "\n",
        "    artifact_path = f\"{artifact_uri}/{artifact_name}\"\n",
        "    return run_id, artifact_path\n",
        "\n",
        "# Specifica l'ID del tuo esperimento e i nomi delle metrica e dell'artefatto\n",
        "experiment_id = '1645340172644810'\n",
        "metric_name = 'metrics.best_test_loss'\n",
        "artifact_name = 'model_weights'\n",
        "\n",
        "run_id, artifact_path = get_artifact_with_lowest_metric(experiment_id, metric_name, artifact_name)\n",
        "\n",
        "print(\"Artifatto 'model_weights' nella run con la metrica 'best_test_acc' più bassa:\")\n",
        "print(artifact_path)"
      ],
      "metadata": {
        "id": "LXxXXrhRPdV6",
        "outputId": "94f98024-aa9b-4dca-a707-6cf2bb98e0e6",
        "colab": {
          "base_uri": "https://localhost:8080/"
        }
      },
      "execution_count": 26,
      "outputs": [
        {
          "output_type": "stream",
          "name": "stdout",
          "text": [
            "Artifatto 'model_weights' nella run con la metrica 'best_test_acc' più bassa:\n",
            "dbfs:/databricks/mlflow-tracking/1645340172644810/fb5c216d34a24ff69af9b8ebb5e35741/artifacts/7f118b67a1514abba7e759ce4ffd3fe8/model_weights\n"
          ]
        }
      ]
    },
    {
      "cell_type": "code",
      "source": [
        "mlflow.artifacts.download_artifacts(run_id=run_id, dst_path=\"/content/artefatto\")"
      ],
      "metadata": {
        "id": "Wq1BtLD4PeHn",
        "outputId": "9d3d6482-5746-4b35-bf31-b22667657f93",
        "colab": {
          "base_uri": "https://localhost:8080/",
          "height": 37
        }
      },
      "execution_count": 27,
      "outputs": [
        {
          "output_type": "execute_result",
          "data": {
            "text/plain": [
              "'/content/artefatto/'"
            ],
            "application/vnd.google.colaboratory.intrinsic+json": {
              "type": "string"
            }
          },
          "metadata": {},
          "execution_count": 27
        }
      ]
    },
    {
      "cell_type": "code",
      "source": [
        "from sklearn.metrics import accuracy_score, precision_score, recall_score, f1_score, roc_auc_score, classification_report\n",
        "import matplotlib.pyplot as plt\n",
        "\n",
        "model = CNN()\n",
        "model.load_state_dict(torch.load(\"/content/artefatto/best_model.pt\"))\n",
        "model.eval()\n",
        "model.to(device)\n",
        "\n",
        "\n",
        "\n",
        "# Calcola le metriche sul test dataset\n",
        "model.eval()  # Imposta il modello in modalità di valutazione (non addestramento)\n",
        "test_predictions = []\n",
        "test_labels = []\n",
        "\n",
        "with torch.no_grad():\n",
        "    for images, labels in test_loader:\n",
        "        images = images.to(device)\n",
        "        labels = labels.to(device)\n",
        "        outputs = model(images)\n",
        "        _, predictions = torch.max(torch.nn.functional.softmax(outputs, dim=1), 1)\n",
        "        test_predictions.extend(predictions.cpu().numpy())\n",
        "        test_labels.extend(labels.cpu().numpy())\n",
        "\n",
        "\n",
        "accuracy = accuracy_score(test_labels, test_predictions)\n",
        "precision = precision_score(test_labels, test_predictions, average=None)\n",
        "recall = recall_score(test_labels, test_predictions, average=None)\n",
        "f1 = f1_score(test_labels, test_predictions, average=None)\n",
        "#auc_roc = roc_auc_score(test_labels, test_predictions, multi_class='ovr')\n",
        "classification_rep = classification_report(test_labels, test_predictions)\n",
        "\n",
        "print(\"Test Metrics:\")\n",
        "print(\"Accuracy:\", accuracy)\n",
        "print(\"Precision:\", precision)\n",
        "print(\"F1 Score:\", f1)\n",
        "#print(\"AUC-ROC:\", auc_roc)\n",
        "print(\"Classification Report:\\n\", classification_rep)\n",
        "\n",
        "# Lista delle etichette delle classi\n",
        "#class_labels = ['Class 0', 'Class 1', 'Class 2', 'Class 3', 'Class 4', 'Class 5', 'Class 6']\n",
        "class_labels=[9,9,9,9,9,9,9]\n",
        "for label in [\"angry\", \"disgust\", \"fear\", \"happy\", \"neutral\", \"sad\", \"surprise\"]:\n",
        "  class_labels[train_dataset.class_to_idx[label]]=label\n",
        "\n",
        "\n",
        "\n",
        "\n",
        "# Crea il grafico a barre per la precisione\n",
        "plt.figure(figsize=(10, 6))\n",
        "plt.bar(class_labels, precision)\n",
        "plt.title('Precision per Class')\n",
        "plt.xlabel('Class')\n",
        "plt.ylabel('Precision')\n",
        "plt.xticks(rotation=45)\n",
        "plt.show()\n",
        "\n",
        "# Crea il grafico a barre per il recall\n",
        "plt.figure(figsize=(10, 6))\n",
        "plt.bar(class_labels, recall)\n",
        "plt.title('Recall per Class')\n",
        "plt.xlabel('Class')\n",
        "plt.ylabel('Recall')\n",
        "plt.xticks(rotation=45)\n",
        "plt.show()\n",
        "\n",
        "# Crea il grafico a barre per l'F1-score\n",
        "plt.figure(figsize=(10, 6))\n",
        "plt.bar(class_labels, f1)\n",
        "plt.title('F1 Score per Class')\n",
        "plt.xlabel('Class')\n",
        "plt.ylabel('F1 Score')\n",
        "plt.xticks(rotation=45)\n",
        "plt.show()"
      ],
      "metadata": {
        "id": "8riSTwGlFTJD",
        "outputId": "1b073f02-09ff-44dc-f93f-8135ffe0a8a7",
        "colab": {
          "base_uri": "https://localhost:8080/",
          "height": 1000
        }
      },
      "execution_count": 43,
      "outputs": [
        {
          "output_type": "stream",
          "name": "stdout",
          "text": [
            "Test Metrics:\n",
            "Accuracy: 0.6256617442184452\n",
            "Precision: [0.54697286 0.73076923 0.50974026 0.83492958 0.54448161 0.47412587\n",
            " 0.75234742]\n",
            "F1 Score: [0.54697286 0.46625767 0.38292683 0.83516484 0.59677419 0.50653717\n",
            " 0.761735  ]\n",
            "Classification Report:\n",
            "               precision    recall  f1-score   support\n",
            "\n",
            "           0       0.55      0.55      0.55       958\n",
            "           1       0.73      0.34      0.47       111\n",
            "           2       0.51      0.31      0.38      1024\n",
            "           3       0.83      0.84      0.84      1774\n",
            "           4       0.54      0.66      0.60      1233\n",
            "           5       0.47      0.54      0.51      1247\n",
            "           6       0.75      0.77      0.76       831\n",
            "\n",
            "    accuracy                           0.63      7178\n",
            "   macro avg       0.63      0.57      0.59      7178\n",
            "weighted avg       0.63      0.63      0.62      7178\n",
            "\n"
          ]
        },
        {
          "output_type": "display_data",
          "data": {
            "text/plain": [
              "<Figure size 1000x600 with 1 Axes>"
            ],
            "image/png": "[encoded data removed]"
          },
          "metadata": {}
        },
        {
          "output_type": "display_data",
          "data": {
            "text/plain": [
              "<Figure size 1000x600 with 1 Axes>"
            ],
            "image/png": "[encoded data removed]"
          },
          "metadata": {}
        },
        {
          "output_type": "display_data",
          "data": {
            "text/plain": [
              "<Figure size 1000x600 with 1 Axes>"
            ],
            "image/png": "[encoded data removed]"
          },
          "metadata": {}
        }
      ]
    },
    {
      "cell_type": "code",
      "source": [
        "writer.close()"
      ],
      "metadata": {
        "id": "3lpoj0szT6Et"
      },
      "execution_count": null,
      "outputs": []
    },
    {
      "cell_type": "code",
      "source": [
        "!pip install grad-cam"
      ],
      "metadata": {
        "id": "I7CKokYNqRCk"
      },
      "execution_count": null,
      "outputs": []
    },
    {
      "cell_type": "code",
      "source": [
        "!pip install pillow\n",
        "import numpy as np\n",
        "from PIL import Image\n",
        "import cv2\n",
        "from pytorch_grad_cam import GradCAM, HiResCAM, ScoreCAM, GradCAMPlusPlus, AblationCAM, XGradCAM, EigenCAM, FullGrad\n",
        "from pytorch_grad_cam.utils.model_targets import ClassifierOutputTarget\n",
        "from pytorch_grad_cam.utils.image import show_cam_on_image\n",
        "\n",
        "target_layers = [model.conv6]\n",
        "input_image_path = '/content/test/happy/PrivateTest_10077120.jpg'\n",
        "input_image = Image.open(input_image_path)\n",
        "transform = transforms.Compose([\n",
        "    transforms.Grayscale(),\n",
        "    transforms.ToTensor(),\n",
        "    transforms.Normalize(mean=[0.5], std=[0.5])\n",
        "])\n",
        "\n",
        "\n",
        "input_tensor = transform(input_image).unsqueeze(0)\n",
        "\n",
        "immagine =cv2.imread('/content/test/happy/PrivateTest_10077120.jpg')\n",
        "# Normalizzazione dell'immagine di input\n",
        "input_image = immagine.astype(np.float32) / 255.0\n",
        "\n",
        "\n",
        "# Construct the CAM object once, and then re-use it on many images:\n",
        "cam = GradCAM(model=model, target_layers=target_layers, use_cuda=True)\n",
        "\n",
        "# You can also use it within a with statement, to make sure it is freed,\n",
        "# In case you need to re-create it inside an outer loop:\n",
        "# with GradCAM(model=model, target_layers=target_layers, use_cuda=args.use_cuda) as cam:\n",
        "#   ...\n",
        "\n",
        "# We have to specify the target we want to generate\n",
        "# the Class Activation Maps for.\n",
        "# If targets is None, the highest scoring category\n",
        "# will be used for every image in the batch.\n",
        "# Here we use ClassifierOutputTarget, but you can define your own custom targets\n",
        "# That are, for example, combinations of categories, or specific outputs in a non standard model.\n",
        "\n",
        "targets = [ClassifierOutputTarget(6)]\n",
        "\n",
        "# You can also pass aug_smooth=True and eigen_smooth=True, to apply smoothing.\n",
        "grayscale_cam = cam(input_tensor=input_tensor, targets=targets)\n",
        "\n",
        "# In this example grayscale_cam has only one image in the batch:\n",
        "grayscale_cam = grayscale_cam[0, :]\n",
        "visualization = show_cam_on_image(input_image, grayscale_cam, use_rgb=True)"
      ],
      "metadata": {
        "id": "zG-fSvn2qZZf",
        "outputId": "415cbe8f-38fd-4456-ad8d-8cea07629841",
        "colab": {
          "base_uri": "https://localhost:8080/"
        }
      },
      "execution_count": null,
      "outputs": [
        {
          "output_type": "stream",
          "name": "stdout",
          "text": [
            "Looking in indexes: https://pypi.org/simple, https://us-python.pkg.dev/colab-wheels/public/simple/\n",
            "Requirement already satisfied: pillow in /usr/local/lib/python3.10/dist-packages (8.4.0)\n"
          ]
        }
      ]
    },
    {
      "cell_type": "code",
      "source": [
        "from google.colab.patches import cv2_imshow\n",
        "cv2_imshow(visualization)"
      ],
      "metadata": {
        "id": "dY452FNMsfW7",
        "outputId": "386c7f87-1f11-43c3-d10b-a762622baf44",
        "colab": {
          "base_uri": "https://localhost:8080/",
          "height": 65
        }
      },
      "execution_count": null,
      "outputs": [
        {
          "output_type": "display_data",
          "data": {
            "text/plain": [
              "<PIL.Image.Image image mode=RGB size=48x48 at 0x7FD51D8FEAA0>"
            ],
            "image/png": "[encoded data removed]"
          },
          "metadata": {}
        }
      ]
    }
  ]
}