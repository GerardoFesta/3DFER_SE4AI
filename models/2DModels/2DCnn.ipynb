{
  "nbformat": 4,
  "nbformat_minor": 0,
  "metadata": {
    "colab": {
      "provenance": [],
      "gpuType": "T4",
      "include_colab_link": true
    },
    "kernelspec": {
      "name": "python3",
      "display_name": "Python 3"
    },
    "language_info": {
      "name": "python"
    },
    "accelerator": "GPU"
  },
  "cells": [
    {
      "cell_type": "markdown",
      "metadata": {
        "id": "view-in-github",
        "colab_type": "text"
      },
      "source": [
        "<a href=\"https://colab.research.google.com/github/GerardoFesta/3DFER_SE4AI/blob/main/2DCnn.ipynb\" target=\"_parent\"><img src=\"https://colab.research.google.com/assets/colab-badge.svg\" alt=\"Open In Colab\"/></a>"
      ]
    },
    {
      "cell_type": "code",
      "source": [
        "import os \n",
        "from google.colab import drive\n",
        "drive.mount(\"/content/drive\")\n"
      ],
      "metadata": {
        "id": "nt82bh71Me7J",
        "outputId": "30c89aee-5dfd-41f1-b0c2-82a8a33565e8",
        "colab": {
          "base_uri": "https://localhost:8080/"
        }
      },
      "execution_count": null,
      "outputs": [
        {
          "output_type": "stream",
          "name": "stdout",
          "text": [
            "Mounted at /content/drive\n",
            "ls: cannot access '/content/drive/mydrive': No such file or directory\n"
          ]
        }
      ]
    },
    {
      "cell_type": "code",
      "execution_count": 29,
      "metadata": {
        "id": "JyI6JfnaBNPU"
      },
      "outputs": [],
      "source": [
        "%matplotlib inline\n",
        "import torch\n",
        "from torch.utils.data import Dataset, DataLoader\n",
        "import torch.nn as nn\n",
        "import torch.nn.functional as F\n",
        "import torchvision\n",
        "import torchvision.transforms as transforms\n",
        "import matplotlib.pyplot as plt\n",
        "import numpy as np\n",
        "from sklearn.model_selection import train_test_split\n",
        "from datetime import datetime\n",
        "import pandas as pd\n",
        "import cv2\n",
        "from google.colab.patches import cv2_imshow\n",
        "\n",
        "TRAIN_PATH = \"train\"\n",
        "TEST_PATH =\"test\""
      ]
    },
    {
      "cell_type": "code",
      "source": [
        "device = torch.device('cuda' if torch.cuda.is_available() else 'cpu')\n",
        "#Questo commento serve per provare il funzionamento dei commit con colab"
      ],
      "metadata": {
        "id": "C5AbMnPdCehg"
      },
      "execution_count": 30,
      "outputs": []
    },
    {
      "cell_type": "markdown",
      "source": [
        "# **Dataset Loading**"
      ],
      "metadata": {
        "id": "pZUeJ0PHEVAQ"
      }
    },
    {
      "cell_type": "markdown",
      "source": [
        "Unzip del dataset (Temporaneamente da caricare da file)"
      ],
      "metadata": {
        "id": "t4_CHNGyO9dq"
      }
    },
    {
      "cell_type": "code",
      "source": [
        "import zipfile\n",
        "\n",
        "\n",
        "zip_ref = zipfile.ZipFile('fer2013.zip', 'r') #Opens the zip file in read mode\n",
        "zip_ref.extractall() #Extracts the files into the /tmp folder\n",
        "zip_ref.close()"
      ],
      "metadata": {
        "id": "GTG6xXm-KBMU"
      },
      "execution_count": 3,
      "outputs": []
    },
    {
      "cell_type": "markdown",
      "source": [
        "Associazione path delle immagini - classe delle immagini"
      ],
      "metadata": {
        "id": "6JvxUWkQPCus"
      }
    },
    {
      "cell_type": "code",
      "source": [
        "import os\n",
        "class_dir=os.listdir(TRAIN_PATH+'/')\n",
        "folder_names = class_dir\n",
        "label_dict = {folder_names[i]:i for i in range(len(folder_names))}\n",
        "num_classes=len(label_dict)\n",
        "train_image_filenames = []\n",
        "train_labels = []\n",
        "\n",
        "# iterate through each folder and collect filenames and labels\n",
        "for folder_name in folder_names:\n",
        "    folder_path = os.path.join(TRAIN_PATH, folder_name)\n",
        "    for filename in os.listdir(folder_path):\n",
        "        train_image_filenames.append(os.path.join(TRAIN_PATH+\"/\"+folder_name, filename))\n",
        "        train_labels.append(label_dict[folder_name])\n",
        "\n",
        "# create pandas dataframe\n",
        "train_df = pd.DataFrame({'filename': train_image_filenames, 'emotion': train_labels})\n",
        "\n",
        "print(len(train_df))\n",
        "\n",
        "\n",
        "test_image_filenames = []\n",
        "test_labels = []\n",
        "class_dir=os.listdir(TEST_PATH+'/')\n",
        "for folder_name in folder_names:\n",
        "    folder_path = os.path.join(TEST_PATH, folder_name)\n",
        "    for filename in os.listdir(folder_path):\n",
        "        test_image_filenames.append(os.path.join(TEST_PATH+\"/\"+folder_name, filename))\n",
        "        test_labels.append(label_dict[folder_name])\n",
        "\n",
        "test_df = pd.DataFrame({'filename': test_image_filenames, 'emotion': test_labels})"
      ],
      "metadata": {
        "id": "2zx1a9K3EUxG",
        "colab": {
          "base_uri": "https://localhost:8080/"
        },
        "outputId": "9241fa69-f8fb-4171-998c-552dc9fdb3f4"
      },
      "execution_count": 31,
      "outputs": [
        {
          "output_type": "stream",
          "name": "stdout",
          "text": [
            "28709\n"
          ]
        }
      ]
    },
    {
      "cell_type": "markdown",
      "source": [
        "Caricamento matrici delle immagini"
      ],
      "metadata": {
        "id": "fdkeckaUOin0"
      }
    },
    {
      "cell_type": "code",
      "source": [
        "train_df['img_as_matrix'] = train_df['filename'].apply(lambda path: cv2.imread(path))\n",
        "test_df['img_as_matrix'] = test_df['filename'].apply(lambda path: cv2.imread(path))\n"
      ],
      "metadata": {
        "id": "LEF3MQiAN3eX"
      },
      "execution_count": 32,
      "outputs": []
    },
    {
      "cell_type": "markdown",
      "source": [
        "Creazione del dataset, estendendo la classe dataset di PyTorch"
      ],
      "metadata": {
        "id": "rSUmLwfZazUU"
      }
    },
    {
      "cell_type": "code",
      "source": [
        "class CustomDataset(Dataset):\n",
        "    def __init__(self, dataframe, transform=None):\n",
        "        self.data = dataframe\n",
        "        self.transform = transform\n",
        "\n",
        "    def __len__(self):\n",
        "        return len(self.data)\n",
        "\n",
        "    def __getitem__(self, index):\n",
        "        image = self.data.iloc[index]['img_as_matrix'] \n",
        "        label = self.data.iloc[index]['emotion'] \n",
        "\n",
        "        # Esegui le trasformazioni se definite\n",
        "        if self.transform is not None:\n",
        "            image = self.transform(image)\n",
        "\n",
        "        return image, label"
      ],
      "metadata": {
        "id": "GAjmpmjDQmbM"
      },
      "execution_count": 33,
      "outputs": []
    },
    {
      "cell_type": "markdown",
      "source": [
        "Creazione dei Loader"
      ],
      "metadata": {
        "id": "xp0r4MJha8L3"
      }
    },
    {
      "cell_type": "code",
      "source": [
        "train_df.drop(columns=[\"filename\"], inplace=True)\n",
        "test_df.drop(columns=[\"filename\"], inplace=True)\n",
        "train_df.at[0,\"img_as_matrix\"]\n",
        "train_dataset = CustomDataset(train_df, transform=transforms.ToTensor())\n",
        "test_dataset = CustomDataset(test_df, transform=transforms.ToTensor())\n",
        "\n",
        "batch_size = 1024  \n",
        "\n",
        "train_loader = DataLoader(train_dataset, batch_size=batch_size, shuffle=True)\n",
        "test_loader = DataLoader(test_dataset, batch_size=batch_size, shuffle=False)"
      ],
      "metadata": {
        "id": "ziA8uiTPYgkF"
      },
      "execution_count": 34,
      "outputs": []
    },
    {
      "cell_type": "markdown",
      "source": [
        "# **Rete convolutiva**"
      ],
      "metadata": {
        "id": "AfkDTdOnczbU"
      }
    },
    {
      "cell_type": "code",
      "source": [
        "def accuracy(preds, labels):\n",
        "  _, predicted = torch.max(preds, 1) \n",
        "  n_correct = (predicted==labels).sum().float()\n",
        "\n",
        "  acc =n_correct / labels.shape[0]\n",
        "  acc= torch.round(acc*100)\n",
        "  return acc;\n"
      ],
      "metadata": {
        "id": "iJyvVmbzJXVO"
      },
      "execution_count": 35,
      "outputs": []
    },
    {
      "cell_type": "code",
      "source": [
        "\n",
        "class CNN(nn.Module):\n",
        "    def __init__(self):\n",
        "        super(CNN, self).__init__()\n",
        "        self.conv1 = nn.Conv2d(3, 32, kernel_size=3)\n",
        "        self.batch_norm1 = nn.BatchNorm2d(32)\n",
        "        self.conv2 = nn.Conv2d(32, 64, kernel_size=3)\n",
        "        self.batch_norm2 = nn.BatchNorm2d(64)\n",
        "        self.maxpool1 = nn.MaxPool2d(2)\n",
        "        self.dropout1 = nn.Dropout2d(0.25)\n",
        "        self.conv3 = nn.Conv2d(64, 128, kernel_size=3)\n",
        "        self.batch_norm3 = nn.BatchNorm2d(128)\n",
        "        self.conv4 = nn.Conv2d(128, 128, kernel_size=3)\n",
        "        self.batch_norm4 = nn.BatchNorm2d(128)\n",
        "        self.maxpool2 = nn.MaxPool2d(2)\n",
        "        self.dropout2 = nn.Dropout2d(0.25)\n",
        "        self.conv5 = nn.Conv2d(128, 256, kernel_size=3)\n",
        "        self.batch_norm5 = nn.BatchNorm2d(256)\n",
        "        self.conv6 = nn.Conv2d(256, 256, kernel_size=3)\n",
        "        self.batch_norm6 = nn.BatchNorm2d(256)\n",
        "        self.maxpool3 = nn.MaxPool2d(2)\n",
        "        self.dropout3 = nn.Dropout2d(0.25)\n",
        "        self.flatten = nn.Flatten()\n",
        "        self.dense1 = nn.Linear(256*2*2, 256)\n",
        "        self.batch_norm7 = nn.BatchNorm1d(256)\n",
        "        self.dropout4 = nn.Dropout(0.5)\n",
        "        self.dense2 = nn.Linear(256, 7)\n",
        "        \n",
        "\n",
        "    def forward(self, x):\n",
        "        x = nn.functional.relu(self.conv1(x))\n",
        "        x = self.batch_norm1(x)\n",
        "        x = nn.functional.relu(self.conv2(x))\n",
        "        x = self.batch_norm2(x)\n",
        "        x = self.maxpool1(x)\n",
        "        x = self.dropout1(x)\n",
        "        x = nn.functional.relu(self.conv3(x))\n",
        "        x = self.batch_norm3(x)\n",
        "        x = nn.functional.relu(self.conv4(x))\n",
        "        x = self.batch_norm4(x)\n",
        "        x = self.maxpool2(x)\n",
        "        x = self.dropout2(x)\n",
        "        x = nn.functional.relu(self.conv5(x))\n",
        "        x = self.batch_norm5(x)\n",
        "        x = nn.functional.relu(self.conv6(x))\n",
        "        x = self.batch_norm6(x)\n",
        "        x = self.maxpool3(x)\n",
        "        x = self.dropout3(x)\n",
        "        x = self.flatten(x)\n",
        "        x = nn.functional.relu(self.dense1(x))\n",
        "        x = self.batch_norm7(x)\n",
        "        x = self.dropout4(x)\n",
        "        x = self.dense2(x)\n",
        "        \n",
        "        return x\n",
        "\n"
      ],
      "metadata": {
        "id": "E5qDv9UfZonY"
      },
      "execution_count": 36,
      "outputs": []
    },
    {
      "cell_type": "code",
      "source": [
        "model = CNN().to(device)\n",
        "\n",
        "criterion = nn.CrossEntropyLoss()\n",
        "\n",
        "optimizer = torch.optim.SGD(model.parameters(), lr=0.01)"
      ],
      "metadata": {
        "id": "U8n88ptP5Esw"
      },
      "execution_count": 37,
      "outputs": []
    },
    {
      "cell_type": "code",
      "source": [
        "n_total_steps = len(train_loader)\n",
        "num_epochs = 20\n",
        "for epoch in range(num_epochs):\n",
        "\n",
        "    running_loss = 0.0\n",
        "    running_acc = 0.0\n",
        "\n",
        "    for i, (images, labels) in enumerate(train_loader):\n",
        "       \n",
        "      images = images.to(device)\n",
        "      labels = labels.to(device)\n",
        "\n",
        "      outputs = model(images)\n",
        "\n",
        "      loss = criterion(outputs, labels)\n",
        "      _, predicted = torch.max(outputs, 1)\n",
        "\n",
        "      acc = accuracy(outputs, labels)\n",
        "\n",
        "      optimizer.zero_grad()      \n",
        "      loss.backward()            \n",
        "      optimizer.step()  \n",
        "      running_loss += loss.item()    \n",
        "      running_acc += acc.item()\n",
        "\n",
        "    print (f'Epoch [{epoch}/{num_epochs}], Loss: {running_loss/len(train_loader):.4f}, Acc: {running_acc/len(train_loader):.4f}')\n",
        "\n",
        "print('Finished Training')\n",
        "\n",
        "PATH = './cnn.pth'\n",
        "torch.save(model.state_dict(), PATH)"
      ],
      "metadata": {
        "id": "0keHfEhx7LK5",
        "outputId": "bff66b9f-17c6-44d8-ed6c-fd173e3506f8",
        "colab": {
          "base_uri": "https://localhost:8080/"
        }
      },
      "execution_count": 38,
      "outputs": [
        {
          "output_type": "stream",
          "name": "stdout",
          "text": [
            "Epoch [0/20], Loss: 2.1025, Acc: 17.6207\n",
            "Epoch [1/20], Loss: 2.0070, Acc: 21.7931\n",
            "Epoch [2/20], Loss: 1.9391, Acc: 24.7586\n",
            "Epoch [3/20], Loss: 1.8772, Acc: 27.4483\n",
            "Epoch [4/20], Loss: 1.8178, Acc: 30.8621\n",
            "Epoch [5/20], Loss: 1.7517, Acc: 33.9655\n",
            "Epoch [6/20], Loss: 1.7126, Acc: 35.3448\n",
            "Epoch [7/20], Loss: 1.6799, Acc: 36.9655\n",
            "Epoch [8/20], Loss: 1.6506, Acc: 38.3448\n",
            "Epoch [9/20], Loss: 1.6092, Acc: 39.7241\n",
            "Epoch [10/20], Loss: 1.5869, Acc: 40.2759\n",
            "Epoch [11/20], Loss: 1.5664, Acc: 41.1724\n",
            "Epoch [12/20], Loss: 1.5518, Acc: 41.5172\n",
            "Epoch [13/20], Loss: 1.5356, Acc: 42.2414\n",
            "Epoch [14/20], Loss: 1.5082, Acc: 43.7241\n",
            "Epoch [15/20], Loss: 1.4992, Acc: 43.5862\n",
            "Epoch [16/20], Loss: 1.4736, Acc: 44.8276\n",
            "Epoch [17/20], Loss: 1.4664, Acc: 44.7586\n",
            "Epoch [18/20], Loss: 1.4456, Acc: 45.5862\n",
            "Epoch [19/20], Loss: 1.4370, Acc: 46.4138\n",
            "Finished Training\n"
          ]
        }
      ]
    },
    {
      "cell_type": "code",
      "source": [
        "with torch.no_grad():\n",
        "    n_correct = 0\n",
        "    n_samples = 0\n",
        "    n_class_correct = [0 for i in range(7)]\n",
        "    n_class_samples = [0 for i in range(7)]\n",
        "    \n",
        "    for images, labels in test_loader:\n",
        "        images = images.to(device)\n",
        "        labels = labels.to(device)\n",
        "       \n",
        "        outputs = model(images)\n",
        "        _, predicted = torch.max(outputs, 1)\n",
        "        \n",
        "        n_samples += labels.size(0)\n",
        "        n_correct += (predicted == labels).sum().item()\n",
        "        \n",
        "        for i in range(labels.size(0)):\n",
        "            label = labels[i]\n",
        "            pred = predicted[i]\n",
        "            if (label == pred):\n",
        "                n_class_correct[label] += 1\n",
        "            n_class_samples[label] += 1\n",
        "\n",
        "    acc = 100.0 * n_correct / n_samples\n",
        "    print(f'Accuracy of the network: {acc} %')\n",
        "\n",
        "    for i in range(7):\n",
        "        acc = 100.0 * n_class_correct[i] / n_class_samples[i]\n",
        "        print(f'Accuracy of {i}: {round(acc, 2)} %')"
      ],
      "metadata": {
        "id": "koRSYVGF9-Nz",
        "outputId": "85cf93b4-6810-49d2-e81f-d4b5ed6ccb85",
        "colab": {
          "base_uri": "https://localhost:8080/"
        }
      },
      "execution_count": 39,
      "outputs": [
        {
          "output_type": "stream",
          "name": "stdout",
          "text": [
            "Accuracy of the network: 23.349122318194482 %\n",
            "Accuracy of 0: 17.72 %\n",
            "Accuracy of 1: 0.0 %\n",
            "Accuracy of 2: 42.05 %\n",
            "Accuracy of 3: 28.04 %\n",
            "Accuracy of 4: 22.95 %\n",
            "Accuracy of 5: 8.5 %\n",
            "Accuracy of 6: 11.06 %\n"
          ]
        }
      ]
    }
  ]
}