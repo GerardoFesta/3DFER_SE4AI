{
  "nbformat": 4,
  "nbformat_minor": 0,
  "metadata": {
    "colab": {
      "provenance": [],
      "gpuType": "T4",
      "authorship_tag": "ABX9TyMO/e2OGAnxLOg0/twsE/wZ",
      "include_colab_link": true
    },
    "kernelspec": {
      "name": "python3",
      "display_name": "Python 3"
    },
    "language_info": {
      "name": "python"
    },
    "accelerator": "GPU"
  },
  "cells": [
    {
      "cell_type": "markdown",
      "metadata": {
        "id": "view-in-github",
        "colab_type": "text"
      },
      "source": [
        "<a href=\"https://colab.research.google.com/github/GerardoFesta/3DFER_SE4AI/blob/main/LandmarkMLP.ipynb\" target=\"_parent\"><img src=\"https://colab.research.google.com/assets/colab-badge.svg\" alt=\"Open In Colab\"/></a>"
      ]
    },
    {
      "cell_type": "code",
      "source": [
        "import os \n",
        "from google.colab import drive\n",
        "drive.mount(\"/content/drive\")\n"
      ],
      "metadata": {
        "colab": {
          "base_uri": "https://localhost:8080/"
        },
        "id": "E-ayZGpMjJ5b",
        "outputId": "c2f70fe3-75c6-4d15-de06-0025fc7a395b"
      },
      "execution_count": null,
      "outputs": [
        {
          "output_type": "stream",
          "name": "stdout",
          "text": [
            "Drive already mounted at /content/drive; to attempt to forcibly remount, call drive.mount(\"/content/drive\", force_remount=True).\n"
          ]
        }
      ]
    },
    {
      "cell_type": "code",
      "source": [
        "!unzip \"training_set.csv.zip\""
      ],
      "metadata": {
        "colab": {
          "base_uri": "https://localhost:8080/"
        },
        "id": "p4fnCigmnbP-",
        "outputId": "19d54ae4-f44f-4066-e3cd-637bee480534"
      },
      "execution_count": null,
      "outputs": [
        {
          "output_type": "stream",
          "name": "stdout",
          "text": [
            "Archive:  training_set.csv.zip\n",
            "  inflating: training_set.csv        \n",
            "  inflating: __MACOSX/._training_set.csv  \n"
          ]
        }
      ]
    },
    {
      "cell_type": "code",
      "execution_count": null,
      "metadata": {
        "id": "gxEYvyT9VvFn"
      },
      "outputs": [],
      "source": [
        "\n",
        "import sys\n",
        "import pandas as pd\n",
        "import torch\n",
        "import torch.nn.functional as F\n",
        "from torch import nn \n",
        "from torch.utils.data import Dataset, DataLoader\n",
        "import torchvision.transforms as transforms\n",
        "from sklearn.model_selection import train_test_split\n",
        "from sklearn.preprocessing import StandardScaler\n",
        "from sklearn.preprocessing import MinMaxScaler\n",
        "import torch.optim as optim\n",
        "import numpy as np"
      ]
    },
    {
      "cell_type": "code",
      "source": [
        "train_df = pd.read_csv(\"training_set.csv\")\n",
        "test_df = pd.read_csv(\"test_set.csv\")"
      ],
      "metadata": {
        "id": "JJIDU6EQikcd"
      },
      "execution_count": null,
      "outputs": []
    },
    {
      "cell_type": "code",
      "source": [
        "device = torch.device('cuda' if torch.cuda.is_available() else 'cpu')\n",
        "#Questo commento serve per provare il funzionamento dei commit con colab\n",
        "\n",
        "batch_size = 1024 "
      ],
      "metadata": {
        "id": "2d2X4ugqp8p_"
      },
      "execution_count": null,
      "outputs": []
    },
    {
      "cell_type": "code",
      "source": [
        "class CustomDataset(Dataset):\n",
        "    def __init__(self, X_array, Y_array, transform=None):\n",
        "        self.X = X_array\n",
        "        self.Y = Y_array\n",
        "        self.transform = transform\n",
        "\n",
        "    def __len__(self):\n",
        "        return len(self.X)\n",
        "\n",
        "    def __getitem__(self, index):\n",
        "        image = self.X[index]\n",
        "        label = self.Y[index] \n",
        "\n",
        "        # Esegui le trasformazioni se definite\n",
        "        if self.transform is not None:\n",
        "            image = self.transform(image)\n",
        "\n",
        "        return image, label"
      ],
      "metadata": {
        "id": "V3LOWu8VnFhg"
      },
      "execution_count": null,
      "outputs": []
    },
    {
      "cell_type": "code",
      "source": [
        "\n",
        "test_df['landmarks'] = test_df['landmarks'].apply(lambda lab: eval(lab))\n",
        "\n",
        "train_df['landmarks'] = train_df['landmarks'].apply(lambda lab: eval(lab))\n",
        "print(train_df)"
      ],
      "metadata": {
        "colab": {
          "base_uri": "https://localhost:8080/"
        },
        "id": "xoNOY_Cek50t",
        "outputId": "50816870-6e2a-41d4-e844-cd416e45c2e6"
      },
      "execution_count": null,
      "outputs": [
        {
          "output_type": "stream",
          "name": "stdout",
          "text": [
            "                                      nome  \\\n",
            "0        train/angry/Training_12391352.jpg   \n",
            "1        train/angry/Training_52407046.jpg   \n",
            "2        train/angry/Training_20666200.jpg   \n",
            "3        train/angry/Training_11533347.jpg   \n",
            "4        train/angry/Training_60003551.jpg   \n",
            "...                                    ...   \n",
            "26700  train/disgust/Training_63164084.jpg   \n",
            "26701  train/disgust/Training_25610374.jpg   \n",
            "26702  train/disgust/Training_67023235.jpg   \n",
            "26703  train/disgust/Training_61032772.jpg   \n",
            "26704  train/disgust/Training_96306068.jpg   \n",
            "\n",
            "                                               landmarks    label  \n",
            "0      [[0.5751925706863403, 0.5731657147407532, -0.1...    angry  \n",
            "1      [[0.43962034583091736, 0.7553703784942627, -0....    angry  \n",
            "2      [[0.6029075384140015, 0.5643556118011475, -0.0...    angry  \n",
            "3      [[0.5550940036773682, 0.7429446578025818, -0.0...    angry  \n",
            "4      [[0.5235995054244995, 0.8211154937744141, -0.0...    angry  \n",
            "...                                                  ...      ...  \n",
            "26700  [[0.5719150304794312, 0.8125964403152466, -0.0...  disgust  \n",
            "26701  [[0.462147057056427, 0.7353857755661011, -0.06...  disgust  \n",
            "26702  [[0.5251359343528748, 0.7221382856369019, -0.0...  disgust  \n",
            "26703  [[0.4942273497581482, 0.7102353572845459, -0.0...  disgust  \n",
            "26704  [[0.5139249563217163, 0.7120318412780762, -0.1...  disgust  \n",
            "\n",
            "[26705 rows x 3 columns]\n"
          ]
        }
      ]
    },
    {
      "cell_type": "code",
      "source": [
        "print(type(train_df.at[0,\"landmarks\"]))\n",
        "\n",
        "label_dict = {\"angry\":0, \"sad\": 1, \"neutral\": 2, \"surprise\": 3, \"disgust\": 4, \"fear\": 5, \"happy\": 6}\n",
        "\n",
        "test_df['label'] = test_df['label'].apply(lambda lab: label_dict[lab])\n",
        "\n",
        "train_df['label'] = train_df['label'].apply(lambda lab: label_dict[lab])\n",
        "\n",
        "array_train = train_df['landmarks'].to_numpy()\n",
        "X_train = np.stack([np.array(lst) for lst in array_train])\n",
        "y_train = train_df['label'].to_numpy()\n",
        "array_test = test_df['landmarks'].to_numpy()\n",
        "X_test = np.stack([np.array(lst) for lst in array_test])\n",
        "y_test = test_df['label'].to_numpy()\n",
        "\n",
        "X_train, X_test, y_train, y_test = train_test_split(np.r_[X_train, X_test], np.r_[y_train, y_test], test_size=0.33, random_state=42, stratify=np.r_[y_train, y_test])\n",
        "\n",
        "train_dataset = CustomDataset(X_train, y_train, transform=transforms.ToTensor())\n",
        "\n",
        "train_loader = DataLoader(train_dataset, batch_size=batch_size, shuffle=True)\n",
        "\n",
        "\n",
        "test_dataset = CustomDataset(X_test, y_test, transform=transforms.ToTensor())\n",
        "\n",
        "test_loader = DataLoader(test_dataset, batch_size=batch_size, shuffle=False)\n",
        "\n",
        "print( X_train.shape, y_train.shape, X_test.shape, y_test.shape)"
      ],
      "metadata": {
        "colab": {
          "base_uri": "https://localhost:8080/"
        },
        "id": "d_CnpJjOpL0S",
        "outputId": "b0617cae-4612-48d7-f172-db60af475347"
      },
      "execution_count": null,
      "outputs": [
        {
          "output_type": "stream",
          "name": "stdout",
          "text": [
            "<class 'list'>\n",
            "(22366, 478, 3) (22366,) (11017, 478, 3) (11017,)\n"
          ]
        }
      ]
    },
    {
      "cell_type": "code",
      "source": [
        "def accuracy(preds, labels):\n",
        "  probabilities = torch.nn.functional.softmax(preds, dim=1)\n",
        "  _, predicted = torch.max(probabilities, dim=1)\n",
        "  n_correct = (predicted==labels).sum().float()\n",
        "\n",
        "  acc =n_correct / labels.shape[0]\n",
        "  acc= torch.round(acc*100)\n",
        "  return acc, n_correct;"
      ],
      "metadata": {
        "id": "diuf1n84oLjV"
      },
      "execution_count": null,
      "outputs": []
    },
    {
      "cell_type": "code",
      "source": [
        "class MultiClassificator(nn.Module):\n",
        "  def __init__(self, in_size: int, hidden_size: int, num_classes: int):\n",
        "    super(MultiClassificator, self).__init__()\n",
        "\n",
        "    self.fc1 = nn.Linear(in_size, hidden_size, dtype=torch.float64)\n",
        "    self.fc2 = nn.Linear(hidden_size, num_classes, dtype=torch.float64)\n",
        "\n",
        "  def forward(self, x: torch.Tensor):\n",
        "    b = x.shape[0]\n",
        "    x = x.view(b,-1)\n",
        "    out_1 = self.fc1(x)\n",
        "\n",
        "    out_2 = F.tanh(out_1)\n",
        "    out_2_2 = F.tanh(out_2)\n",
        "\n",
        "    out_3 = self.fc2(out_2)\n",
        "\n",
        "    return out_3"
      ],
      "metadata": {
        "id": "Sd3NpgPrWae6"
      },
      "execution_count": null,
      "outputs": []
    },
    {
      "cell_type": "code",
      "source": [
        "model = MultiClassificator(478*3, 1024,  7)\n",
        "print(model)\n",
        "criterion = nn.CrossEntropyLoss()\n",
        "optimizer = optim.Adam(model.parameters(), lr=0.001)\n",
        "\n",
        "device = torch.device(\"cuda:0\" if torch.cuda.is_available() else \"cpu\")\n",
        "model = model.to(device)"
      ],
      "metadata": {
        "id": "9NbcBvkUY_AD",
        "colab": {
          "base_uri": "https://localhost:8080/"
        },
        "outputId": "6dbd8a51-9802-4205-c3f8-97aaa60371a1"
      },
      "execution_count": null,
      "outputs": [
        {
          "output_type": "stream",
          "name": "stdout",
          "text": [
            "MultiClassificator(\n",
            "  (fc1): Linear(in_features=1434, out_features=1024, bias=True)\n",
            "  (fc2): Linear(in_features=1024, out_features=7, bias=True)\n",
            ")\n"
          ]
        }
      ]
    },
    {
      "cell_type": "code",
      "source": [
        "model.train()\n",
        "num_epochs = 20\n",
        "for epoch in range(num_epochs):  \n",
        "\n",
        "    running_loss = 0.0\n",
        "    running_acc = 0.0\n",
        "    tot_seen = 0\n",
        "    for X_batch, y_batch in train_loader:\n",
        "\n",
        "        \n",
        "        #manda i batch al device \n",
        "        X_batch, y_batch = X_batch.to(device), y_batch.to(device)\n",
        "        #azzera gradiente\n",
        "        optimizer.zero_grad()\n",
        "        #predict\n",
        "        y_pred = model(X_batch)\n",
        "        #calcola loss e accuracy\n",
        "        #y_pred_test = torch.sigmoid(y_pred)\n",
        "       \n",
        "        #y_pred_test = [1 if x>=.5 else 0 for x in y_pred_test]\n",
        "      \n",
        "\n",
        "        #print(y_batch.shape)\n",
        "        loss = criterion(y_pred, y_batch)\n",
        "        _,acc = accuracy(y_pred, y_batch)\n",
        "        #backpropagation della loss\n",
        "        loss.backward()\n",
        "        #ottimizzazione\n",
        "        optimizer.step()\n",
        "        \n",
        "        #somma della loss e dell'accuracy per il batch\n",
        "        running_loss += loss.item()\n",
        "        running_acc += acc\n",
        "        tot_seen += len(y_batch)                    \n",
        "        \n",
        "    \n",
        "    print(f'Epoch {epoch}: | Loss: {running_loss/len(train_loader):.5f} | Acc: {running_acc/tot_seen:.3f}')\n"
      ],
      "metadata": {
        "id": "hIYbJl_ddGfx",
        "colab": {
          "base_uri": "https://localhost:8080/"
        },
        "outputId": "3a1cc31a-a1fc-42bd-f0d9-82f6805ce327"
      },
      "execution_count": null,
      "outputs": [
        {
          "output_type": "stream",
          "name": "stdout",
          "text": [
            "Epoch 0: | Loss: 2.11942 | Acc: 0.204\n",
            "Epoch 1: | Loss: 1.79751 | Acc: 0.257\n",
            "Epoch 2: | Loss: 1.76059 | Acc: 0.291\n",
            "Epoch 3: | Loss: 1.72755 | Acc: 0.318\n",
            "Epoch 4: | Loss: 1.67774 | Acc: 0.355\n",
            "Epoch 5: | Loss: 1.61441 | Acc: 0.389\n",
            "Epoch 6: | Loss: 1.54485 | Acc: 0.420\n",
            "Epoch 7: | Loss: 1.50872 | Acc: 0.424\n",
            "Epoch 8: | Loss: 1.50180 | Acc: 0.423\n",
            "Epoch 9: | Loss: 1.47528 | Acc: 0.435\n",
            "Epoch 10: | Loss: 1.43018 | Acc: 0.453\n",
            "Epoch 11: | Loss: 1.41438 | Acc: 0.461\n",
            "Epoch 12: | Loss: 1.40955 | Acc: 0.462\n",
            "Epoch 13: | Loss: 1.41604 | Acc: 0.457\n",
            "Epoch 14: | Loss: 1.40596 | Acc: 0.463\n",
            "Epoch 15: | Loss: 1.39079 | Acc: 0.470\n",
            "Epoch 16: | Loss: 1.39520 | Acc: 0.466\n",
            "Epoch 17: | Loss: 1.38427 | Acc: 0.474\n",
            "Epoch 18: | Loss: 1.37891 | Acc: 0.473\n",
            "Epoch 19: | Loss: 1.41595 | Acc: 0.456\n"
          ]
        }
      ]
    },
    {
      "cell_type": "code",
      "source": [
        "y_pred_list = []\n",
        "tot_corrette=0\n",
        "n_seen=0\n",
        "running_loss=0\n",
        "with torch.no_grad():\n",
        "    for X_batch, y_batch in test_loader:\n",
        "        X_batch = X_batch.to(device)\n",
        "        y_batch = y_batch.to(device)\n",
        "        y_pred = model(X_batch)\n",
        "        _, n_corrette =accuracy(y_pred,y_batch)\n",
        "        tot_corrette+=n_corrette\n",
        "        n_seen+=len(y_pred)\n",
        "        loss = criterion(y_pred, y_batch)\n",
        "        running_loss += loss.item()\n",
        "    print(f'Acc: {tot_corrette/n_seen:.3f}, Loss:{running_loss/len(test_loader)}')"
      ],
      "metadata": {
        "id": "9c_zkpmXq87o",
        "colab": {
          "base_uri": "https://localhost:8080/"
        },
        "outputId": "3384de31-6a71-4719-9631-a1765d7c116b"
      },
      "execution_count": null,
      "outputs": [
        {
          "output_type": "stream",
          "name": "stdout",
          "text": [
            "Acc: 0.473, Loss:1.371220305255462\n"
          ]
        }
      ]
    },
    {
      "cell_type": "code",
      "source": [],
      "metadata": {
        "id": "GAw98jHttc4V"
      },
      "execution_count": null,
      "outputs": []
    }
  ]
}