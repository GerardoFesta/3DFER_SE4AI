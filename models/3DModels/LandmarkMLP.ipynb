{
  "nbformat": 4,
  "nbformat_minor": 0,
  "metadata": {
    "colab": {
      "provenance": [],
      "authorship_tag": "ABX9TyP/Q2bHXbRutF3cZcIB2Lw7",
      "include_colab_link": true
    },
    "kernelspec": {
      "name": "python3",
      "display_name": "Python 3"
    },
    "language_info": {
      "name": "python"
    }
  },
  "cells": [
    {
      "cell_type": "markdown",
      "metadata": {
        "id": "view-in-github",
        "colab_type": "text"
      },
      "source": [
        "<a href=\"https://colab.research.google.com/github/GerardoFesta/3DFER_SE4AI/blob/main/models/3DModels/LandmarkMLP.ipynb\" target=\"_parent\"><img src=\"https://colab.research.google.com/assets/colab-badge.svg\" alt=\"Open In Colab\"/></a>"
      ]
    },
    {
      "cell_type": "code",
      "execution_count": 1,
      "metadata": {
        "colab": {
          "base_uri": "https://localhost:8080/"
        },
        "id": "1gF9evhd59oN",
        "outputId": "77d7bb96-9681-460f-9917-be4307130154"
      },
      "outputs": [
        {
          "output_type": "stream",
          "name": "stdout",
          "text": [
            "Mounted at /content/drive\n"
          ]
        }
      ],
      "source": [
        "import os\n",
        "from google.colab import drive\n",
        "drive.mount(\"/content/drive\")"
      ]
    },
    {
      "cell_type": "code",
      "source": [
        "!pip install -q mlflow\n",
        "!databricks configure --host https://community.cloud.databricks.com/"
      ],
      "metadata": {
        "colab": {
          "base_uri": "https://localhost:8080/"
        },
        "id": "zq_wgdU6Cy3Y",
        "outputId": "a86d2d2c-7949-49fc-e232-520e4bd97cbf"
      },
      "execution_count": 14,
      "outputs": [
        {
          "output_type": "stream",
          "name": "stdout",
          "text": [
            "Username: gfesta24@gmail.com\n",
            "Password: \n",
            "Repeat for confirmation: \n",
            "Error: The two entered values do not match.\n",
            "Password: \n",
            "Repeat for confirmation: \n"
          ]
        }
      ]
    },
    {
      "cell_type": "code",
      "source": [
        "import sys\n",
        "import pandas as pd\n",
        "import torch\n",
        "import torch.nn.functional as F\n",
        "from torch import nn\n",
        "from torch.utils.data import Dataset, DataLoader\n",
        "import torchvision.transforms as transforms\n",
        "from sklearn.model_selection import train_test_split\n",
        "from sklearn.preprocessing import StandardScaler\n",
        "from sklearn.preprocessing import MinMaxScaler\n",
        "import torch.optim as optim\n",
        "import numpy as np"
      ],
      "metadata": {
        "id": "4a6IY4ju5_rL"
      },
      "execution_count": 15,
      "outputs": []
    },
    {
      "cell_type": "code",
      "source": [
        "train_df = pd.read_csv(\"/content/drive/Shareddrives/Datasets SEFAI/training_set.csv\")\n",
        "test_df = pd.read_csv(\"/content/drive/Shareddrives/Datasets SEFAI/test_set.csv\")"
      ],
      "metadata": {
        "id": "YFTcKSb46Cn2"
      },
      "execution_count": 16,
      "outputs": []
    },
    {
      "cell_type": "code",
      "source": [
        "device = torch.device('cuda' if torch.cuda.is_available() else 'cpu')\n",
        "\n",
        "batch_size = 1024"
      ],
      "metadata": {
        "id": "MS9rFg--6E5-"
      },
      "execution_count": 17,
      "outputs": []
    },
    {
      "cell_type": "code",
      "source": [
        "class CustomDataset(Dataset):\n",
        "    def __init__(self, X_array, Y_array, transform=None):\n",
        "        self.X = X_array\n",
        "        self.Y = Y_array\n",
        "        self.transform = transform\n",
        "\n",
        "    def __len__(self):\n",
        "        return len(self.X)\n",
        "\n",
        "    def __getitem__(self, index):\n",
        "        image = self.X[index]\n",
        "        label = self.Y[index]\n",
        "\n",
        "        # Esegui le trasformazioni se definite\n",
        "        if self.transform is not None:\n",
        "            image = self.transform(image)\n",
        "\n",
        "        return image, label"
      ],
      "metadata": {
        "id": "KTaDM-eD6KP6"
      },
      "execution_count": 18,
      "outputs": []
    },
    {
      "cell_type": "code",
      "source": [
        "test_df['landmarks'] = test_df['landmarks'].apply(lambda lab: eval(lab))\n",
        "\n",
        "train_df['landmarks'] = train_df['landmarks'].apply(lambda lab: eval(lab))\n",
        "print(train_df)"
      ],
      "metadata": {
        "colab": {
          "base_uri": "https://localhost:8080/"
        },
        "id": "jWcyIhAK6Rlk",
        "outputId": "de8acf41-50fc-4905-dee4-39f8d479177e"
      },
      "execution_count": 19,
      "outputs": [
        {
          "output_type": "stream",
          "name": "stdout",
          "text": [
            "                                      nome  \\\n",
            "0        train/angry/Training_12391352.jpg   \n",
            "1        train/angry/Training_52407046.jpg   \n",
            "2        train/angry/Training_20666200.jpg   \n",
            "3        train/angry/Training_11533347.jpg   \n",
            "4        train/angry/Training_60003551.jpg   \n",
            "...                                    ...   \n",
            "26700  train/disgust/Training_63164084.jpg   \n",
            "26701  train/disgust/Training_25610374.jpg   \n",
            "26702  train/disgust/Training_67023235.jpg   \n",
            "26703  train/disgust/Training_61032772.jpg   \n",
            "26704  train/disgust/Training_96306068.jpg   \n",
            "\n",
            "                                               landmarks    label  \n",
            "0      [[0.5751925706863403, 0.5731657147407532, -0.1...    angry  \n",
            "1      [[0.43962034583091736, 0.7553703784942627, -0....    angry  \n",
            "2      [[0.6029075384140015, 0.5643556118011475, -0.0...    angry  \n",
            "3      [[0.5550940036773682, 0.7429446578025818, -0.0...    angry  \n",
            "4      [[0.5235995054244995, 0.8211154937744141, -0.0...    angry  \n",
            "...                                                  ...      ...  \n",
            "26700  [[0.5719150304794312, 0.8125964403152466, -0.0...  disgust  \n",
            "26701  [[0.462147057056427, 0.7353857755661011, -0.06...  disgust  \n",
            "26702  [[0.5251359343528748, 0.7221382856369019, -0.0...  disgust  \n",
            "26703  [[0.4942273497581482, 0.7102353572845459, -0.0...  disgust  \n",
            "26704  [[0.5139249563217163, 0.7120318412780762, -0.1...  disgust  \n",
            "\n",
            "[26705 rows x 3 columns]\n"
          ]
        }
      ]
    },
    {
      "cell_type": "code",
      "source": [
        "print(type(train_df.at[0,\"landmarks\"]))\n",
        "\n",
        "label_dict = {\"angry\":0, \"sad\": 1, \"neutral\": 2, \"surprise\": 3, \"disgust\": 4, \"fear\": 5, \"happy\": 6}\n",
        "\n",
        "test_df['label'] = test_df['label'].apply(lambda lab: label_dict[lab])\n",
        "\n",
        "train_df['label'] = train_df['label'].apply(lambda lab: label_dict[lab])\n",
        "\n",
        "array_train = train_df['landmarks'].to_numpy()\n",
        "X_train = np.stack([np.array(lst) for lst in array_train])\n",
        "y_train = train_df['label'].to_numpy()\n",
        "array_test = test_df['landmarks'].to_numpy()\n",
        "X_test = np.stack([np.array(lst) for lst in array_test])\n",
        "y_test = test_df['label'].to_numpy()"
      ],
      "metadata": {
        "colab": {
          "base_uri": "https://localhost:8080/"
        },
        "id": "Rf2Uoe1O6W33",
        "outputId": "04e2f063-09b1-4929-ee56-cd72bee792d4"
      },
      "execution_count": 20,
      "outputs": [
        {
          "output_type": "stream",
          "name": "stdout",
          "text": [
            "<class 'list'>\n"
          ]
        }
      ]
    },
    {
      "cell_type": "code",
      "source": [
        "train_dataset = CustomDataset(X_train, y_train, transform=transforms.ToTensor())\n",
        "\n",
        "train_loader = DataLoader(train_dataset, batch_size=batch_size, shuffle=True)\n",
        "\n",
        "\n",
        "test_dataset = CustomDataset(X_test, y_test, transform=transforms.ToTensor())\n",
        "\n",
        "test_loader = DataLoader(test_dataset, batch_size=batch_size, shuffle=False)\n",
        "\n",
        "print( X_train.shape, y_train.shape, X_test.shape, y_test.shape)"
      ],
      "metadata": {
        "colab": {
          "base_uri": "https://localhost:8080/"
        },
        "id": "_v1v5ZFw6cRl",
        "outputId": "d33c6410-92f8-44db-9f65-473c007e918f"
      },
      "execution_count": 21,
      "outputs": [
        {
          "output_type": "stream",
          "name": "stdout",
          "text": [
            "(26705, 478, 3) (26705,) (6678, 478, 3) (6678,)\n"
          ]
        }
      ]
    },
    {
      "cell_type": "code",
      "source": [
        "def accuracy(preds, labels):\n",
        "  probabilities = torch.nn.functional.softmax(preds, dim=1)\n",
        "  _, predicted = torch.max(probabilities, dim=1)\n",
        "  n_correct = (predicted==labels).sum().float()\n",
        "\n",
        "  acc =n_correct / labels.shape[0]\n",
        "  acc= torch.round(acc*100)\n",
        "  return acc, n_correct;"
      ],
      "metadata": {
        "id": "heFf79s36c_o"
      },
      "execution_count": 22,
      "outputs": []
    },
    {
      "cell_type": "code",
      "source": [
        "class MultiClassificator(nn.Module):\n",
        "  def __init__(self, in_size: int, hidden_size: int, num_classes: int):\n",
        "    super(MultiClassificator, self).__init__()\n",
        "\n",
        "    self.fc1 = nn.Linear(in_size, 1024, dtype=torch.float64)\n",
        "    self.fc2 = nn.Linear(1024, 500, dtype=torch.float64)\n",
        "    self.fc3 = nn.Linear(500, 100, dtype=torch.float64)\n",
        "    self.fc4 = nn.Linear(100, num_classes, dtype=torch.float64)\n",
        "\n",
        "  def forward(self, x: torch.Tensor):\n",
        "    b = x.shape[0]\n",
        "    x = x.view(b,-1)\n",
        "\n",
        "    out = self.fc1(x)\n",
        "    out = F.relu(out)\n",
        "    out = self.fc2(out)\n",
        "    out = F.relu(out)\n",
        "    out = self.fc3(out)\n",
        "    out = F.relu(out)\n",
        "    out = self.fc4(out)\n",
        "    return out"
      ],
      "metadata": {
        "id": "kknRuaJ06jyl"
      },
      "execution_count": 23,
      "outputs": []
    },
    {
      "cell_type": "code",
      "source": [
        "model = MultiClassificator(478*3, 1024,  7)\n",
        "print(model)\n",
        "criterion = nn.CrossEntropyLoss()\n",
        "optimizer = optim.Adam(model.parameters(), lr=0.001)\n",
        "\n",
        "device = torch.device(\"cuda:0\" if torch.cuda.is_available() else \"cpu\")\n",
        "model = model.to(device)"
      ],
      "metadata": {
        "colab": {
          "base_uri": "https://localhost:8080/"
        },
        "id": "MLCv6Apm6kdp",
        "outputId": "b2fc23ff-e929-409c-aa75-acd8d264c408"
      },
      "execution_count": 24,
      "outputs": [
        {
          "output_type": "stream",
          "name": "stdout",
          "text": [
            "MultiClassificator(\n",
            "  (fc1): Linear(in_features=1434, out_features=1024, bias=True)\n",
            "  (fc2): Linear(in_features=1024, out_features=500, bias=True)\n",
            "  (fc3): Linear(in_features=500, out_features=100, bias=True)\n",
            "  (fc4): Linear(in_features=100, out_features=7, bias=True)\n",
            ")\n"
          ]
        }
      ]
    },
    {
      "cell_type": "code",
      "source": [
        "import mlflow\n",
        "mlflow.set_tracking_uri(\"databricks\")\n",
        "mlflow.set_experiment(\"/Users/gfesta24@gmail.com/LandmarkMLP\")"
      ],
      "metadata": {
        "colab": {
          "base_uri": "https://localhost:8080/"
        },
        "id": "tHzglvLD6rL-",
        "outputId": "c962556d-4a7a-453b-b0fa-2151020c5511"
      },
      "execution_count": 25,
      "outputs": [
        {
          "output_type": "execute_result",
          "data": {
            "text/plain": [
              "<Experiment: artifact_location='dbfs:/databricks/mlflow-tracking/3698710157086970', creation_time=1687350733677, experiment_id='3698710157086970', last_update_time=1687350733677, lifecycle_stage='active', name='/Users/gfesta24@gmail.com/LandmarkMLP', tags={'mlflow.experiment.sourceName': '/Users/gfesta24@gmail.com/LandmarkMLP',\n",
              " 'mlflow.experimentType': 'MLFLOW_EXPERIMENT',\n",
              " 'mlflow.ownerEmail': 'gfesta24@gmail.com',\n",
              " 'mlflow.ownerId': '1923923806180228'}>"
            ]
          },
          "metadata": {},
          "execution_count": 25
        }
      ]
    },
    {
      "cell_type": "code",
      "source": [
        "mlflow.start_run()\n",
        "\n",
        "mlflow.set_tag(\"model_name\", \"LandmarkMLP\")\n",
        "mlflow.log_param(\"lr\", 0.001)\n",
        "mlflow.log_param(\"batch_size\", 64)\n",
        "\n",
        "\n",
        "\n",
        "patience = 3\n",
        "\n",
        "acc_list_train=[]\n",
        "acc_list_test=[]\n",
        "\n",
        "\n",
        "n_total_steps = len(train_loader)\n",
        "\n",
        "\n",
        "best_loss = 100\n",
        "counter=0\n",
        "stop=False\n",
        "num_epochs = 100\n",
        "for epoch in range(num_epochs):\n",
        "        model.train()\n",
        "        print(counter)\n",
        "        if stop:\n",
        "          print(stop)\n",
        "          break\n",
        "        running_loss = 0.0\n",
        "        running_acc = 0\n",
        "        seen = 0\n",
        "        for images, labels in train_loader:\n",
        "\n",
        "          images = images.to(device)\n",
        "          labels = labels.to(device)\n",
        "\n",
        "\n",
        "          outputs = model(images)\n",
        "\n",
        "          loss = criterion(outputs, labels)\n",
        "\n",
        "          _, acc = accuracy(outputs, labels)\n",
        "          seen +=labels.shape[0]\n",
        "\n",
        "          optimizer.zero_grad()\n",
        "          loss.backward()\n",
        "          optimizer.step()\n",
        "          running_loss += loss.item()\n",
        "          running_acc += acc\n",
        "\n",
        "        print (f'Epoch [{epoch}/{num_epochs}], Loss: {running_loss/len(train_loader):.4f}, Acc: {running_acc/seen:.4f}')\n",
        "        acc_list_train.append(running_acc/len(train_loader))\n",
        "        mlflow.log_metric(\"train_loss\", running_loss / len(train_loader), step=epoch)\n",
        "        mlflow.log_metric(\"train_acc\", running_acc/seen, step=epoch)\n",
        "        model.eval()\n",
        "\n",
        "        tot_corrette = 0\n",
        "        tot_eseguite = 0\n",
        "        running_test_loss = 0\n",
        "        val_loss = 0\n",
        "\n",
        "        with torch.no_grad():\n",
        "\n",
        "          for images, labels in test_loader:\n",
        "              images = images.to(device)\n",
        "              labels = labels.to(device)\n",
        "\n",
        "              outputs = model(images)\n",
        "              test_loss = criterion(outputs, labels)\n",
        "              _, n_corrette=accuracy(outputs, labels)\n",
        "\n",
        "              running_test_loss += test_loss.item()\n",
        "              tot_corrette+=n_corrette.item()\n",
        "              tot_eseguite+=labels.shape[0]\n",
        "\n",
        "          test_acc=100* (tot_corrette/tot_eseguite)\n",
        "          val_loss = running_test_loss / len(test_loader)\n",
        "          acc_list_test.append(test_acc)\n",
        "          print(\"Test acc: \", test_acc)\n",
        "          print(\"Test loss: \", val_loss)\n",
        "          mlflow.log_metric(\"test_acc\", test_acc, step=epoch)\n",
        "          mlflow.log_metric(\"test_loss\", val_loss, step=epoch)\n",
        "\n",
        "\n",
        "        if val_loss < best_loss:\n",
        "          print(\"MIGLIORATO\")\n",
        "          torch.save(model.state_dict(), 'model_weights.pth')\n",
        "          best_loss = val_loss\n",
        "          best_model_train_acc=running_acc/seen\n",
        "          best_model_test_acc=test_acc\n",
        "          best_model_test_loss=val_loss\n",
        "          best_model_train_loss=running_loss / len(train_loader)\n",
        "          counter = 0\n",
        "          # Salva i pesi del modello se la validation loss è migliorata\n",
        "          torch.save(model.state_dict(), 'best_model.pt')\n",
        "        else:\n",
        "          counter += 1\n",
        "        # Verifica se raggiunto il criterio di early stopping\n",
        "          if counter >= patience:\n",
        "              print(f'Early stopping at epoch {epoch+1}')\n",
        "              mlflow.set_tag(\"Epochs_stopped\", epoch+1)\n",
        "              mlflow.log_artifact(\"best_model.pt\")\n",
        "              mlflow.log_metric(\"best_test_acc\", best_model_test_acc)\n",
        "              mlflow.log_metric(\"best_test_loss\", best_model_test_loss)\n",
        "              mlflow.log_metric(\"best_train_acc\", best_model_train_acc)\n",
        "              mlflow.log_metric(\"best_train_loss\", best_model_train_loss)\n",
        "              mlflow.end_run()\n",
        "              stop=True\n",
        "        print(\"BEST TEST LOSS: \", best_loss)"
      ],
      "metadata": {
        "colab": {
          "base_uri": "https://localhost:8080/"
        },
        "id": "GxA-q3WW8iOx",
        "outputId": "520ff729-1c61-4eca-a793-dcb657b55fa1"
      },
      "execution_count": 26,
      "outputs": [
        {
          "output_type": "stream",
          "name": "stdout",
          "text": [
            "0\n",
            "Epoch [0/100], Loss: 1.8167, Acc: 0.2541\n",
            "Test acc:  25.666367175801135\n",
            "Test loss:  1.7695431984978731\n",
            "MIGLIORATO\n",
            "BEST TEST LOSS:  1.7695431984978731\n",
            "0\n",
            "Epoch [1/100], Loss: 1.7723, Acc: 0.2749\n",
            "Test acc:  26.43006888289907\n",
            "Test loss:  1.7683348024505807\n",
            "MIGLIORATO\n",
            "BEST TEST LOSS:  1.7683348024505807\n",
            "0\n",
            "Epoch [2/100], Loss: 1.6843, Acc: 0.3219\n",
            "Test acc:  32.060497154836774\n",
            "Test loss:  1.5512917617418556\n",
            "MIGLIORATO\n",
            "BEST TEST LOSS:  1.5512917617418556\n",
            "0\n",
            "Epoch [3/100], Loss: 1.5759, Acc: 0.3764\n",
            "Test acc:  40.685834082060495\n",
            "Test loss:  1.502866087459918\n",
            "MIGLIORATO\n",
            "BEST TEST LOSS:  1.502866087459918\n",
            "0\n",
            "Epoch [4/100], Loss: 1.5215, Acc: 0.4001\n",
            "Test acc:  39.83228511530398\n",
            "Test loss:  1.502444527205175\n",
            "MIGLIORATO\n",
            "BEST TEST LOSS:  1.502444527205175\n",
            "0\n",
            "Epoch [5/100], Loss: 1.5071, Acc: 0.4071\n",
            "Test acc:  40.73075771188979\n",
            "Test loss:  1.4468528270607004\n",
            "MIGLIORATO\n",
            "BEST TEST LOSS:  1.4468528270607004\n",
            "0\n",
            "Epoch [6/100], Loss: 1.4810, Acc: 0.4195\n",
            "Test acc:  41.689128481581314\n",
            "Test loss:  1.4041317922461594\n",
            "MIGLIORATO\n",
            "BEST TEST LOSS:  1.4041317922461594\n",
            "0\n",
            "Epoch [7/100], Loss: 1.4660, Acc: 0.4309\n",
            "Test acc:  44.60916442048518\n",
            "Test loss:  1.378816045894162\n",
            "MIGLIORATO\n",
            "BEST TEST LOSS:  1.378816045894162\n",
            "0\n",
            "Epoch [8/100], Loss: 1.4275, Acc: 0.4467\n",
            "Test acc:  46.316262353998205\n",
            "Test loss:  1.3549285344124018\n",
            "MIGLIORATO\n",
            "BEST TEST LOSS:  1.3549285344124018\n",
            "0\n",
            "Epoch [9/100], Loss: 1.4363, Acc: 0.4464\n",
            "Test acc:  44.20485175202156\n",
            "Test loss:  1.3611327406714142\n",
            "BEST TEST LOSS:  1.3549285344124018\n",
            "1\n",
            "Epoch [10/100], Loss: 1.4517, Acc: 0.4380\n",
            "Test acc:  42.84216831386642\n",
            "Test loss:  1.3742822793999097\n",
            "BEST TEST LOSS:  1.3549285344124018\n",
            "2\n",
            "Epoch [11/100], Loss: 1.4028, Acc: 0.4594\n",
            "Test acc:  41.61425576519916\n",
            "Test loss:  1.3907385598550148\n",
            "Early stopping at epoch 12\n",
            "BEST TEST LOSS:  1.3549285344124018\n",
            "3\n",
            "True\n"
          ]
        }
      ]
    },
    {
      "cell_type": "code",
      "source": [
        "from sklearn.metrics import accuracy_score, precision_score, f1_score, roc_auc_score, classification_report\n",
        "\n",
        "model = MultiClassificator(478*3, 1024,  7)\n",
        "model.load_state_dict(torch.load(\"model_weights.pth\"))\n",
        "model.eval()\n",
        "model.to(device)\n",
        "\n",
        "\n",
        "\n",
        "# Calcola le metriche sul test dataset\n",
        "model.eval()  # Imposta il modello in modalità di valutazione (non addestramento)\n",
        "test_predictions = []\n",
        "test_labels = []\n",
        "\n",
        "with torch.no_grad():\n",
        "    for images, labels in test_loader:\n",
        "        images = images.to(device)\n",
        "        labels = labels.to(device)\n",
        "        outputs = model(images)\n",
        "        _, predictions = torch.max(torch.nn.functional.softmax(outputs, dim=1), 1)\n",
        "        test_predictions.extend(predictions.cpu().numpy())\n",
        "        test_labels.extend(labels.cpu().numpy())\n",
        "\n",
        "accuracy = accuracy_score(test_labels, test_predictions)\n",
        "precision = precision_score(test_labels, test_predictions, average=None)\n",
        "f1 = f1_score(test_labels, test_predictions, average=None)\n",
        "#auc_roc = roc_auc_score(test_labels, test_predictions, multi_class='ovr')\n",
        "classification_rep = classification_report(test_labels, test_predictions)\n",
        "\n",
        "print(\"Test Metrics:\")\n",
        "print(\"Accuracy:\", accuracy)\n",
        "print(\"Precision:\", precision)\n",
        "print(\"F1 Score:\", f1)\n",
        "#print(\"AUC-ROC:\", auc_roc)\n",
        "print(\"Classification Report:\\n\", classification_rep)"
      ],
      "metadata": {
        "colab": {
          "base_uri": "https://localhost:8080/"
        },
        "id": "y9sw3LlV-RK6",
        "outputId": "330e4630-7a86-40b7-822f-42f8f2f08ab9"
      },
      "execution_count": 27,
      "outputs": [
        {
          "output_type": "stream",
          "name": "stdout",
          "text": [
            "Test Metrics:\n",
            "Accuracy: 0.46316262353998205\n",
            "Precision: [0.26315789 0.36189258 0.32169954 0.63746224 0.         0.28378378\n",
            " 0.62066081]\n",
            "F1 Score: [0.07099391 0.29962943 0.44386286 0.58489258 0.         0.04137931\n",
            " 0.72302071]\n",
            "Classification Report:\n",
            "               precision    recall  f1-score   support\n",
            "\n",
            "           0       0.26      0.04      0.07       853\n",
            "           1       0.36      0.26      0.30      1107\n",
            "           2       0.32      0.72      0.44      1185\n",
            "           3       0.64      0.54      0.58       781\n",
            "           4       0.00      0.00      0.00        97\n",
            "           5       0.28      0.02      0.04       941\n",
            "           6       0.62      0.87      0.72      1714\n",
            "\n",
            "    accuracy                           0.46      6678\n",
            "   macro avg       0.36      0.35      0.31      6678\n",
            "weighted avg       0.42      0.46      0.40      6678\n",
            "\n"
          ]
        },
        {
          "output_type": "stream",
          "name": "stderr",
          "text": [
            "/usr/local/lib/python3.10/dist-packages/sklearn/metrics/_classification.py:1344: UndefinedMetricWarning: Precision is ill-defined and being set to 0.0 in labels with no predicted samples. Use `zero_division` parameter to control this behavior.\n",
            "  _warn_prf(average, modifier, msg_start, len(result))\n",
            "/usr/local/lib/python3.10/dist-packages/sklearn/metrics/_classification.py:1344: UndefinedMetricWarning: Precision and F-score are ill-defined and being set to 0.0 in labels with no predicted samples. Use `zero_division` parameter to control this behavior.\n",
            "  _warn_prf(average, modifier, msg_start, len(result))\n",
            "/usr/local/lib/python3.10/dist-packages/sklearn/metrics/_classification.py:1344: UndefinedMetricWarning: Precision and F-score are ill-defined and being set to 0.0 in labels with no predicted samples. Use `zero_division` parameter to control this behavior.\n",
            "  _warn_prf(average, modifier, msg_start, len(result))\n",
            "/usr/local/lib/python3.10/dist-packages/sklearn/metrics/_classification.py:1344: UndefinedMetricWarning: Precision and F-score are ill-defined and being set to 0.0 in labels with no predicted samples. Use `zero_division` parameter to control this behavior.\n",
            "  _warn_prf(average, modifier, msg_start, len(result))\n"
          ]
        }
      ]
    },
    {
      "cell_type": "code",
      "source": [
        "!pip install mediapipe\n",
        "\n",
        "import zipfile\n",
        "\n",
        "\n",
        "zip_ref = zipfile.ZipFile('/content/drive/Shareddrives/Datasets SEFAI/scraped_pictures.zip', 'r') #Opens the zip file in read mode\n",
        "zip_ref.extractall() #Extracts the files into the /tmp folder\n",
        "zip_ref.close()"
      ],
      "metadata": {
        "colab": {
          "base_uri": "https://localhost:8080/"
        },
        "id": "cJJbNLq6-XEQ",
        "outputId": "cdfba98f-fd5e-4a9d-a32d-eac2cefec217"
      },
      "execution_count": 30,
      "outputs": [
        {
          "output_type": "stream",
          "name": "stdout",
          "text": [
            "Looking in indexes: https://pypi.org/simple, https://us-python.pkg.dev/colab-wheels/public/simple/\n",
            "Requirement already satisfied: mediapipe in /usr/local/lib/python3.10/dist-packages (0.10.1)\n",
            "Requirement already satisfied: absl-py in /usr/local/lib/python3.10/dist-packages (from mediapipe) (1.4.0)\n",
            "Requirement already satisfied: attrs>=19.1.0 in /usr/local/lib/python3.10/dist-packages (from mediapipe) (23.1.0)\n",
            "Requirement already satisfied: flatbuffers>=2.0 in /usr/local/lib/python3.10/dist-packages (from mediapipe) (23.3.3)\n",
            "Requirement already satisfied: matplotlib in /usr/local/lib/python3.10/dist-packages (from mediapipe) (3.7.1)\n",
            "Requirement already satisfied: numpy in /usr/local/lib/python3.10/dist-packages (from mediapipe) (1.22.4)\n",
            "Requirement already satisfied: opencv-contrib-python in /usr/local/lib/python3.10/dist-packages (from mediapipe) (4.7.0.72)\n",
            "Requirement already satisfied: protobuf<4,>=3.11 in /usr/local/lib/python3.10/dist-packages (from mediapipe) (3.20.3)\n",
            "Requirement already satisfied: sounddevice>=0.4.4 in /usr/local/lib/python3.10/dist-packages (from mediapipe) (0.4.6)\n",
            "Requirement already satisfied: CFFI>=1.0 in /usr/local/lib/python3.10/dist-packages (from sounddevice>=0.4.4->mediapipe) (1.15.1)\n",
            "Requirement already satisfied: contourpy>=1.0.1 in /usr/local/lib/python3.10/dist-packages (from matplotlib->mediapipe) (1.0.7)\n",
            "Requirement already satisfied: cycler>=0.10 in /usr/local/lib/python3.10/dist-packages (from matplotlib->mediapipe) (0.11.0)\n",
            "Requirement already satisfied: fonttools>=4.22.0 in /usr/local/lib/python3.10/dist-packages (from matplotlib->mediapipe) (4.39.3)\n",
            "Requirement already satisfied: kiwisolver>=1.0.1 in /usr/local/lib/python3.10/dist-packages (from matplotlib->mediapipe) (1.4.4)\n",
            "Requirement already satisfied: packaging>=20.0 in /usr/local/lib/python3.10/dist-packages (from matplotlib->mediapipe) (23.1)\n",
            "Requirement already satisfied: pillow>=6.2.0 in /usr/local/lib/python3.10/dist-packages (from matplotlib->mediapipe) (8.4.0)\n",
            "Requirement already satisfied: pyparsing>=2.3.1 in /usr/local/lib/python3.10/dist-packages (from matplotlib->mediapipe) (3.0.9)\n",
            "Requirement already satisfied: python-dateutil>=2.7 in /usr/local/lib/python3.10/dist-packages (from matplotlib->mediapipe) (2.8.2)\n",
            "Requirement already satisfied: pycparser in /usr/local/lib/python3.10/dist-packages (from CFFI>=1.0->sounddevice>=0.4.4->mediapipe) (2.21)\n",
            "Requirement already satisfied: six>=1.5 in /usr/local/lib/python3.10/dist-packages (from python-dateutil>=2.7->matplotlib->mediapipe) (1.16.0)\n"
          ]
        }
      ]
    },
    {
      "cell_type": "code",
      "source": [
        "import mediapipe as mp\n",
        "import glob, os\n",
        "import cv2\n",
        "\n",
        "mp_drawing = mp.solutions.drawing_utils\n",
        "mp_drawing_styles = mp.solutions.drawing_styles\n",
        "mp_face_mesh = mp.solutions.face_mesh\n",
        "\n",
        "label_dict = {\"angry\":0, \"sad\": 1, \"neutral\": 2, \"surprise\": 3, \"disgust\": 4, \"fear\": 5, \"happy\": 6}\n",
        "label_arr=[]\n",
        "images = []\n",
        "with mp_face_mesh.FaceMesh(\n",
        "    static_image_mode=True,\n",
        "    max_num_faces=1,\n",
        "    refine_landmarks=True,\n",
        "    min_detection_confidence=0.5) as face_mesh:\n",
        "\n",
        "    for root, dirs, files in os.walk(\"photos\"):\n",
        "      for dir in dirs:\n",
        "        if(not dir==\".ipynb_checkpoints\"):\n",
        "          label=label_dict[dir]\n",
        "          for _file in glob.glob(\"photos/\"+dir+\"/*.*\"):\n",
        "              image = cv2.imread(_file)\n",
        "          # Convert the BGR image to RGB before processing.\n",
        "              #print(_file)\n",
        "              results = face_mesh.process(cv2.cvtColor(image, cv2.COLOR_BGR2RGB))\n",
        "\n",
        "\n",
        "              annotated_image = image.copy()\n",
        "              if(results.multi_face_landmarks!=None):\n",
        "                for face_landmarks in results.multi_face_landmarks:\n",
        "                  #print('face_landmarks:', face_landmarks)\n",
        "                  mp_drawing.draw_landmarks(\n",
        "                      image=annotated_image,\n",
        "                      landmark_list=face_landmarks,\n",
        "                      connections=mp_face_mesh.FACEMESH_TESSELATION,\n",
        "                      landmark_drawing_spec=None,\n",
        "                      connection_drawing_spec=mp_drawing_styles\n",
        "                      .get_default_face_mesh_tesselation_style())\n",
        "                  mp_drawing.draw_landmarks(\n",
        "                      image=annotated_image,\n",
        "                      landmark_list=face_landmarks,\n",
        "                      connections=mp_face_mesh.FACEMESH_CONTOURS,\n",
        "                      landmark_drawing_spec=None,\n",
        "                      connection_drawing_spec=mp_drawing_styles\n",
        "                      .get_default_face_mesh_contours_style())\n",
        "                  mp_drawing.draw_landmarks(\n",
        "                      image=annotated_image,\n",
        "                      landmark_list=face_landmarks,\n",
        "                      connections=mp_face_mesh.FACEMESH_IRISES,\n",
        "                      landmark_drawing_spec=None,\n",
        "                      connection_drawing_spec=mp_drawing_styles\n",
        "                      .get_default_face_mesh_iris_connections_style())\n",
        "                points_array = np.array(face_landmarks)\n",
        "\n",
        "                x_array=[]\n",
        "                y_array=[]\n",
        "                z_array=[]\n",
        "\n",
        "                landmark_matrix = []\n",
        "                for data_point in face_landmarks.landmark:\n",
        "                  landmark_matrix.append([data_point.x, data_point.y, data_point.z])\n",
        "\n",
        "                label_arr.append(label)\n",
        "                images.append(landmark_matrix)\n"
      ],
      "metadata": {
        "id": "D8Wn_SkE-dEd"
      },
      "execution_count": 33,
      "outputs": []
    },
    {
      "cell_type": "code",
      "source": [
        "images = np.array(images)\n",
        "labels = np.array(label_arr)\n",
        "scraped_dataset = CustomDataset(images, labels, transform=transforms.ToTensor())\n",
        "\n",
        "scraped_loader = DataLoader(scraped_dataset, batch_size=batch_size, shuffle=False)"
      ],
      "metadata": {
        "id": "GYEexemg-e51"
      },
      "execution_count": 34,
      "outputs": []
    },
    {
      "cell_type": "code",
      "source": [
        "model = MultiClassificator(478*3, 1024,  7)\n",
        "model.load_state_dict(torch.load(\"model_weights.pth\"))\n",
        "model.eval()\n",
        "model.to(device)\n",
        "\n",
        "\n",
        "\n",
        "# Calcola le metriche sul test dataset\n",
        "model.eval()  # Imposta il modello in modalità di valutazione (non addestramento)\n",
        "test_predictions = []\n",
        "test_labels = []\n",
        "\n",
        "with torch.no_grad():\n",
        "    for images, labels in scraped_loader:\n",
        "        images = images.to(device)\n",
        "        labels = labels.to(device)\n",
        "        outputs = model(images)\n",
        "        _, predictions = torch.max(torch.nn.functional.softmax(outputs, dim=1), 1)\n",
        "        test_predictions.extend(predictions.cpu().numpy())\n",
        "        test_labels.extend(labels.cpu().numpy())\n",
        "\n",
        "accuracy = accuracy_score(test_labels, test_predictions)\n",
        "precision = precision_score(test_labels, test_predictions, average=None)\n",
        "f1 = f1_score(test_labels, test_predictions, average=None)\n",
        "#auc_roc = roc_auc_score(test_labels, test_predictions, multi_class='ovr')\n",
        "classification_rep = classification_report(test_labels, test_predictions)\n",
        "\n",
        "print(\"Test Metrics:\")\n",
        "print(\"Accuracy:\", accuracy)\n",
        "print(\"Precision:\", precision)\n",
        "print(\"F1 Score:\", f1)\n",
        "#print(\"AUC-ROC:\", auc_roc)\n",
        "print(\"Classification Report:\\n\", classification_rep)"
      ],
      "metadata": {
        "colab": {
          "base_uri": "https://localhost:8080/"
        },
        "id": "1L9KYXcn-hEm",
        "outputId": "46d5ba7e-083b-44ed-a53c-77aab45cd877"
      },
      "execution_count": 35,
      "outputs": [
        {
          "output_type": "stream",
          "name": "stdout",
          "text": [
            "Test Metrics:\n",
            "Accuracy: 0.3106267029972752\n",
            "Precision: [0.16       0.11627907 0.18248175 0.35897436 0.         0.28\n",
            " 0.60204082]\n",
            "F1 Score: [0.08888889 0.11764706 0.2994012  0.31111111 0.         0.25925926\n",
            " 0.67816092]\n",
            "Classification Report:\n",
            "               precision    recall  f1-score   support\n",
            "\n",
            "           0       0.16      0.06      0.09        65\n",
            "           1       0.12      0.12      0.12        42\n",
            "           2       0.18      0.83      0.30        30\n",
            "           3       0.36      0.27      0.31        51\n",
            "           4       0.00      0.00      0.00        74\n",
            "           5       0.28      0.24      0.26        29\n",
            "           6       0.60      0.78      0.68        76\n",
            "\n",
            "    accuracy                           0.31       367\n",
            "   macro avg       0.24      0.33      0.25       367\n",
            "weighted avg       0.25      0.31      0.26       367\n",
            "\n"
          ]
        },
        {
          "output_type": "stream",
          "name": "stderr",
          "text": [
            "/usr/local/lib/python3.10/dist-packages/sklearn/metrics/_classification.py:1344: UndefinedMetricWarning: Precision is ill-defined and being set to 0.0 in labels with no predicted samples. Use `zero_division` parameter to control this behavior.\n",
            "  _warn_prf(average, modifier, msg_start, len(result))\n",
            "/usr/local/lib/python3.10/dist-packages/sklearn/metrics/_classification.py:1344: UndefinedMetricWarning: Precision and F-score are ill-defined and being set to 0.0 in labels with no predicted samples. Use `zero_division` parameter to control this behavior.\n",
            "  _warn_prf(average, modifier, msg_start, len(result))\n",
            "/usr/local/lib/python3.10/dist-packages/sklearn/metrics/_classification.py:1344: UndefinedMetricWarning: Precision and F-score are ill-defined and being set to 0.0 in labels with no predicted samples. Use `zero_division` parameter to control this behavior.\n",
            "  _warn_prf(average, modifier, msg_start, len(result))\n",
            "/usr/local/lib/python3.10/dist-packages/sklearn/metrics/_classification.py:1344: UndefinedMetricWarning: Precision and F-score are ill-defined and being set to 0.0 in labels with no predicted samples. Use `zero_division` parameter to control this behavior.\n",
            "  _warn_prf(average, modifier, msg_start, len(result))\n"
          ]
        }
      ]
    }
  ]
}