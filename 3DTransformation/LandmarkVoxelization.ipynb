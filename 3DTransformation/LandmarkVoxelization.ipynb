{
  "nbformat": 4,
  "nbformat_minor": 0,
  "metadata": {
    "colab": {
      "provenance": [],
      "include_colab_link": true
    },
    "kernelspec": {
      "name": "python3",
      "display_name": "Python 3"
    },
    "language_info": {
      "name": "python"
    }
  },
  "cells": [
    {
      "cell_type": "markdown",
      "metadata": {
        "id": "view-in-github",
        "colab_type": "text"
      },
      "source": [
        "<a href=\"https://colab.research.google.com/github/GerardoFesta/3DFER_SE4AI/blob/main/3DTransformation/LandmarkVoxelization.ipynb\" target=\"_parent\"><img src=\"https://colab.research.google.com/assets/colab-badge.svg\" alt=\"Open In Colab\"/></a>"
      ]
    },
    {
      "cell_type": "code",
      "execution_count": null,
      "metadata": {
        "id": "QANtDVBPg27f"
      },
      "outputs": [],
      "source": [
        "import cv2\n",
        "import numpy as np\n",
        "import matplotlib.pyplot as plt\n",
        "import pandas as pd\n",
        "\n",
        "import torch\n",
        "from torch.utils.data import Dataset\n"
      ]
    },
    {
      "cell_type": "markdown",
      "source": [
        "Connection to Google Drive, do not execute if you do not wish to connect it."
      ],
      "metadata": {
        "id": "5gu4hOAHBt5B"
      }
    },
    {
      "cell_type": "code",
      "source": [
        "import os\n",
        "from google.colab import drive\n",
        "drive.mount(\"/content/drive\")"
      ],
      "metadata": {
        "colab": {
          "base_uri": "https://localhost:8080/"
        },
        "id": "B-DL1Ykw-UtW",
        "outputId": "4e3b4e6f-80af-43a6-f486-e593cdcf2a32"
      },
      "execution_count": null,
      "outputs": [
        {
          "output_type": "stream",
          "name": "stdout",
          "text": [
            "Mounted at /content/drive\n"
          ]
        }
      ]
    },
    {
      "cell_type": "markdown",
      "source": [
        "The code appears to perform voxelization of an image. It returns a cubic matrix with dimensions 24x24x24, called \"cubic_matrix.\" The x, y, and z coordinates are normalized to fit within the range 0-24. The cubic matrix is then further normalized between 0 and 1.\n"
      ],
      "metadata": {
        "id": "MSkpsrkUC4Hb"
      }
    },
    {
      "cell_type": "code",
      "source": [
        "def voxelization(img):\n",
        "  cubic_matrix=np.zeros((24,24,24))\n",
        "  x_array = img[:, 0]\n",
        "  y_array = img[:, 1]\n",
        "  z_array = img[:, 2]\n",
        "  x= np.array(23.99*(x_array-x_array.min())/(x_array.max()-x_array.min()),dtype=np.int)\n",
        "  y= np.array(23.99*(y_array-y_array.min())/(y_array.max()-y_array.min()),dtype=np.int)\n",
        "  z= np.array(23.99*(z_array-z_array.min())/(z_array.max()-z_array.min()),dtype=np.int)\n",
        "  for i in range(0,len(x)):\n",
        "    cubic_matrix[x[i],y[i],z[i]]+=1\n",
        "    cubic_matrix[:,:,:]/=cubic_matrix[:,:,:].max() #DATI GIA' NORMALIZZATI TRA ZERO E UNO\n",
        "  return cubic_matrix\n"
      ],
      "metadata": {
        "id": "e37Q5ZfzC1M3"
      },
      "execution_count": null,
      "outputs": []
    },
    {
      "cell_type": "markdown",
      "source": [
        "Loading training and test data."
      ],
      "metadata": {
        "id": "C9CbiAcyE9YF"
      }
    },
    {
      "cell_type": "code",
      "source": [
        "training_path=\"drive/MyDrive/training_set.csv\"\n",
        "test_path =\"drive/MyDrive/test_set.csv\"\n",
        "train_df=pd.read_csv(training_path)\n",
        "test_df=pd.read_csv(test_path)\n",
        "\n",
        "\n",
        "\n",
        "\n",
        "\n",
        "label_dict = {\"angry\":0, \"sad\": 1, \"neutral\": 2, \"surprise\": 3, \"disgust\": 4, \"fear\": 5, \"happy\": 6}\n",
        "\n",
        "\n",
        "test_df['landmarks'] = test_df['landmarks'].apply(lambda landmark: eval(landmark))\n",
        "\n",
        "train_df['landmarks'] = train_df['landmarks'].apply(lambda landmark: eval(landmark))\n",
        "\n",
        "test_df['label'] = test_df['label'].apply(lambda lab: label_dict[lab])\n",
        "\n",
        "train_df['label'] = train_df['label'].apply(lambda lab: label_dict[lab])\n",
        "\n",
        "array_train = train_df['landmarks'].to_numpy()\n",
        "X_train = np.stack([np.array(lst) for lst in array_train])\n",
        "y_train = train_df['label'].to_numpy()\n",
        "array_test = test_df['landmarks'].to_numpy()\n",
        "X_test = np.stack([np.array(lst) for lst in array_test])\n",
        "y_test = test_df['label'].to_numpy()\n"
      ],
      "metadata": {
        "id": "Yeuwfach9We-"
      },
      "execution_count": null,
      "outputs": []
    },
    {
      "cell_type": "code",
      "source": [
        "del train_df\n",
        "del test_df"
      ],
      "metadata": {
        "id": "UystUYLzEQsc"
      },
      "execution_count": null,
      "outputs": []
    },
    {
      "cell_type": "markdown",
      "source": [
        "Voxelization of training and test data and save the results in npz files"
      ],
      "metadata": {
        "id": "sK60_OFpGAKJ"
      }
    },
    {
      "cell_type": "code",
      "source": [
        "print(X_train.shape)\n",
        "X_cubic_data_train= np.zeros(shape=(26705, 24, 24, 24))\n",
        "i=0\n",
        "for single_image in X_train:\n",
        "  cubic_matrix = voxelization(single_image)\n",
        "  X_cubic_data_train[i] = cubic_matrix\n",
        "  i+=1\n",
        "\n",
        "np.savez('train_dataset.npz', data=X_cubic_data_train, labels=y_train)\n",
        "del X_cubic_data_train\n",
        "\n",
        "X_cubic_data_test = np.zeros(shape=(6678, 24, 24, 24))\n",
        "\n",
        "i=0\n",
        "for single_image in X_test:\n",
        "  cubic_matrix = voxelization(single_image)\n",
        "  X_cubic_data_test[i] = cubic_matrix\n",
        "  i+=1\n",
        "\n",
        "np.savez('test_dataset.npz', data=X_cubic_data_test, labels=y_test)\n",
        "\n"
      ],
      "metadata": {
        "id": "OvICD4CZ-HXH",
        "colab": {
          "base_uri": "https://localhost:8080/"
        },
        "outputId": "c122374f-c52a-4a9e-f492-4ad6b776eab5"
      },
      "execution_count": null,
      "outputs": [
        {
          "output_type": "stream",
          "name": "stdout",
          "text": [
            "(26705, 478, 3)\n"
          ]
        },
        {
          "output_type": "stream",
          "name": "stderr",
          "text": [
            "<ipython-input-2-c83277b54535>:6: DeprecationWarning: `np.int` is a deprecated alias for the builtin `int`. To silence this warning, use `int` by itself. Doing this will not modify any behavior and is safe. When replacing `np.int`, you may wish to use e.g. `np.int64` or `np.int32` to specify the precision. If you wish to review your current use, check the release note link for additional information.\n",
            "Deprecated in NumPy 1.20; for more details and guidance: https://numpy.org/devdocs/release/1.20.0-notes.html#deprecations\n",
            "  x= np.array(23.99*(x_array-x_array.min())/(x_array.max()-x_array.min()),dtype=np.int)\n",
            "<ipython-input-2-c83277b54535>:7: DeprecationWarning: `np.int` is a deprecated alias for the builtin `int`. To silence this warning, use `int` by itself. Doing this will not modify any behavior and is safe. When replacing `np.int`, you may wish to use e.g. `np.int64` or `np.int32` to specify the precision. If you wish to review your current use, check the release note link for additional information.\n",
            "Deprecated in NumPy 1.20; for more details and guidance: https://numpy.org/devdocs/release/1.20.0-notes.html#deprecations\n",
            "  y= np.array(23.99*(y_array-y_array.min())/(y_array.max()-y_array.min()),dtype=np.int)\n",
            "<ipython-input-2-c83277b54535>:8: DeprecationWarning: `np.int` is a deprecated alias for the builtin `int`. To silence this warning, use `int` by itself. Doing this will not modify any behavior and is safe. When replacing `np.int`, you may wish to use e.g. `np.int64` or `np.int32` to specify the precision. If you wish to review your current use, check the release note link for additional information.\n",
            "Deprecated in NumPy 1.20; for more details and guidance: https://numpy.org/devdocs/release/1.20.0-notes.html#deprecations\n",
            "  z= np.array(23.99*(z_array-z_array.min())/(z_array.max()-z_array.min()),dtype=np.int)\n"
          ]
        }
      ]
    }
  ]
}